{
 "cells": [
  {
   "cell_type": "markdown",
   "metadata": {
    "id": "U3UO3NTzOAct"
   },
   "source": [
    "2017250033 이재현"
   ]
  },
  {
   "cell_type": "markdown",
   "metadata": {
    "id": "yhIT2A_xOt7n"
   },
   "source": [
    "**기본 설정**\n",
    "* 필수 모듈 불러오기\n",
    "* 그래프 출력 관련 기본 설정 지정"
   ]
  },
  {
   "cell_type": "code",
   "execution_count": null,
   "metadata": {
    "id": "XcaOnTZNO1Zp"
   },
   "outputs": [],
   "source": [
    "# 파이썬 ≥3.5 필수\n",
    "import sys\n",
    "assert sys.version_info >= (3, 5)\n",
    "\n",
    "# 사이킷런 ≥0.20 필수\n",
    "import sklearn\n",
    "assert sklearn.__version__ >= \"0.20\"\n",
    "\n",
    "# 공통 모듈 임포트\n",
    "import numpy as np\n",
    "import os\n",
    "\n",
    "# 노트북 실행 결과를 동일하게 유지하기 위해\n",
    "np.random.seed(42)\n",
    "\n",
    "# 깔끔한 그래프 출력을 위해\n",
    "%matplotlib inline\n",
    "import matplotlib as mpl\n",
    "import matplotlib.pyplot as plt\n",
    "mpl.rc('axes', labelsize=14)\n",
    "mpl.rc('xtick', labelsize=12)\n",
    "mpl.rc('ytick', labelsize=12)\n",
    "\n",
    "# 그림을 저장할 위치\n",
    "PROJECT_ROOT_DIR = \".\"\n",
    "CHAPTER_ID = \"training_linear_models\"\n",
    "IMAGES_PATH = os.path.join(PROJECT_ROOT_DIR, \"images\", CHAPTER_ID)\n",
    "os.makedirs(IMAGES_PATH, exist_ok=True)\n",
    "\n",
    "def save_fig(fig_id, tight_layout=True, fig_extension=\"png\", resolution=300):\n",
    "    path = os.path.join(IMAGES_PATH, fig_id + \".\" + fig_extension)\n",
    "    print(\"그림 저장:\", fig_id)\n",
    "    if tight_layout:\n",
    "        plt.tight_layout()\n",
    "    plt.savefig(path, format=fig_extension, dpi=resolution)\n",
    "    \n",
    "# 어레이 데이터를 csv 파일로 저장하기\n",
    "def save_data(fileName, arrayName, header=''):\n",
    "    np.savetxt(fileName, arrayName, delimiter=',', header=header, comments='')"
   ]
  },
  {
   "cell_type": "markdown",
   "metadata": {
    "id": "bctqmvQQPjP-"
   },
   "source": [
    "# 과제 1\n",
    "조기 종료를 사용한 배치 경사 하강법으로 로지스틱 회귀를 구현하라. 단 사이킷런을 전혀 사용하지 않아야 한다."
   ]
  },
  {
   "cell_type": "markdown",
   "metadata": {
    "id": "mSUOS31yOJ7o"
   },
   "source": [
    "##단계 1: 데이터 준비\n",
    "\n",
    "붓꽃 데이터셋의 꽃잎 길이와 꽃잎 너비(petal width) 특성만 이용한다."
   ]
  },
  {
   "cell_type": "code",
   "execution_count": null,
   "metadata": {
    "id": "eLSCWnyhODFe"
   },
   "outputs": [],
   "source": [
    "from sklearn import datasets\n",
    "iris = datasets.load_iris()\n",
    "X = iris[\"data\"][:, (2, 3)]  # 꽃잎 길이, 꽃잎 넓이\n",
    "y = (iris[\"target\"] == 2).astype(np.int)  # 버지니카(Virginica) 품종일 때 1(양성)"
   ]
  },
  {
   "cell_type": "markdown",
   "metadata": {
    "id": "JYC_25BeLuz-"
   },
   "source": [
    "모든 샘플에 편향을 추가한다."
   ]
  },
  {
   "cell_type": "code",
   "execution_count": null,
   "metadata": {
    "id": "JJZ85Qb14G_c"
   },
   "outputs": [],
   "source": [
    "X_with_bias = np.c_[np.ones([len(X), 1]), X]"
   ]
  },
  {
   "cell_type": "markdown",
   "metadata": {
    "id": "3_OBW7MyQeuv"
   },
   "source": [
    "결과를 일정하게 유지하기 위해 랜덤 시드를 지정합니다"
   ]
  },
  {
   "cell_type": "code",
   "execution_count": null,
   "metadata": {
    "id": "51ApMPjbQgXw"
   },
   "outputs": [],
   "source": [
    "np.random.seed(2042)"
   ]
  },
  {
   "cell_type": "markdown",
   "metadata": {
    "id": "eZn0FXQlQh-N"
   },
   "source": [
    "##단계 2: 테이터셋 분할\n",
    "\n",
    "데이터셋을 훈련, 검증, 테스트 용도로 6대 2대 2의 비율로 무작위로 분할한다.\n",
    "* 훈련 세트 : 60%\n",
    "* 검증 세트 : 20%\n",
    "* 테스트 세트 : 20%"
   ]
  },
  {
   "cell_type": "markdown",
   "metadata": {
    "id": "PmsG5V2qJQ63"
   },
   "source": [
    "아래 코드는 사이킷런의 train_test_split() 함수를 사용하지 않고 수동으로 무작위 분할하는 방법을 보여준다. 먼저 각 세트의 크기를 결정한다."
   ]
  },
  {
   "cell_type": "code",
   "execution_count": null,
   "metadata": {
    "id": "IO8AFrktQhfc"
   },
   "outputs": [],
   "source": [
    "test_ratio = 0.2                                         # 테스트 세트 비율 = 20%\n",
    "validation_ratio = 0.2                                   # 검증 세트 비율 = 20%\n",
    "total_size = len(X_with_bias)                            # 전체 데이터셋 크기\n",
    "\n",
    "test_size = int(total_size * test_ratio)                 # 테스트 세트 크기: 전체의 20%\n",
    "validation_size = int(total_size * validation_ratio)     # 검증 세트 크기: 전체의 20%\n",
    "train_size = total_size - test_size - validation_size    # 훈련 세트 크기: 전체의 60%"
   ]
  },
  {
   "cell_type": "markdown",
   "metadata": {
    "id": "kZSrQV-9Q9su"
   },
   "source": [
    "np.random.permutation() 함수를 이용하여 인덱스를 무작위로 섞는다."
   ]
  },
  {
   "cell_type": "code",
   "execution_count": null,
   "metadata": {
    "id": "7WfJqEu2Q10P"
   },
   "outputs": [],
   "source": [
    "rnd_indices = np.random.permutation(total_size)"
   ]
  },
  {
   "cell_type": "markdown",
   "metadata": {
    "id": "mVFBIJldRA9x"
   },
   "source": [
    "인덱스가 무작위로 섞였기 때문에 무작위로 분할하는 효과를 얻는다. 방법은 섞인 인덱스를 이용하여 지정된 6:2:2의 비율로 훈련, 검증, 테스트 세트로 분할하는 것이다."
   ]
  },
  {
   "cell_type": "code",
   "execution_count": null,
   "metadata": {
    "id": "VAT38d1AQ9Io"
   },
   "outputs": [],
   "source": [
    "X_train = X_with_bias[rnd_indices[:train_size]]\n",
    "y_train = y[rnd_indices[:train_size]]\n",
    "\n",
    "X_valid = X_with_bias[rnd_indices[train_size:-test_size]]\n",
    "y_valid = y[rnd_indices[train_size:-test_size]]\n",
    "\n",
    "X_test = X_with_bias[rnd_indices[-test_size:]]\n",
    "y_test = y[rnd_indices[-test_size:]]"
   ]
  },
  {
   "cell_type": "markdown",
   "metadata": {
    "id": "ieeYTTwlRHt3"
   },
   "source": [
    "##단계 3 : 타깃 변환\n",
    "\n",
    "타깃은 0, 1로 설정되어 있다. 차례대로 버니지카 아닌 품종, 버지니카 품종을 가리킨다. 훈련 세트의 첫 5개 샘플의 품종은 다음과 같다."
   ]
  },
  {
   "cell_type": "code",
   "execution_count": null,
   "metadata": {
    "colab": {
     "base_uri": "https://localhost:8080/"
    },
    "id": "pRuX-AfnRGoi",
    "outputId": "84710dc5-ac1f-4d58-960e-7606a4a5a888"
   },
   "outputs": [
    {
     "data": {
      "text/plain": [
       "array([0, 0, 1, 0, 0])"
      ]
     },
     "execution_count": 28,
     "metadata": {
      "tags": []
     },
     "output_type": "execute_result"
    }
   ],
   "source": [
    "y_train[:5]"
   ]
  },
  {
   "cell_type": "markdown",
   "metadata": {
    "id": "LoZKWuFVkUDr"
   },
   "source": [
    "훈련세트를 90 * 1 행열로 바꾸고\n",
    "\n",
    "검증세트를 30 * 1 행열로 바꾼다."
   ]
  },
  {
   "cell_type": "code",
   "execution_count": null,
   "metadata": {
    "id": "zE5nFHV94aA4"
   },
   "outputs": [],
   "source": [
    "y_train = np.reshape(y_train,(90,1))\n",
    "y_valid = np.reshape(y_valid,(30,1))"
   ]
  },
  {
   "cell_type": "markdown",
   "metadata": {
    "id": "4Ajycq3zkfGm"
   },
   "source": [
    "##단계 4 : 로지스틱 함수 구현"
   ]
  },
  {
   "cell_type": "code",
   "execution_count": null,
   "metadata": {
    "id": "fLSjLzQ4MAxO"
   },
   "outputs": [],
   "source": [
    "def logistic(logits):\n",
    "    return 1/(1 + np.exp(-logits))                   # 시그모이드 함수 "
   ]
  },
  {
   "cell_type": "markdown",
   "metadata": {
    "id": "lryvMEXxk24e"
   },
   "source": [
    "## 단계 5 : 경사하강법 활용 훈련"
   ]
  },
  {
   "cell_type": "code",
   "execution_count": null,
   "metadata": {
    "id": "l-kmJy-i4cSQ"
   },
   "outputs": [],
   "source": [
    "n_inputs = X_train.shape[1]           # 특성 수(n) + 1, 붓꽃의 경우: 특성 2개 + 1"
   ]
  },
  {
   "cell_type": "markdown",
   "metadata": {
    "id": "uUscaQgun0Oi"
   },
   "source": [
    "파라미터 세타를 무작위로 초기 설정한다."
   ]
  },
  {
   "cell_type": "code",
   "execution_count": null,
   "metadata": {
    "id": "4_HoVX0E4eaR"
   },
   "outputs": [],
   "source": [
    "Theta = np.random.randn(n_inputs, 1)"
   ]
  },
  {
   "cell_type": "markdown",
   "metadata": {
    "id": "a7axvBrgn5Mh"
   },
   "source": [
    "배치 경사하강법"
   ]
  },
  {
   "cell_type": "code",
   "execution_count": null,
   "metadata": {
    "colab": {
     "base_uri": "https://localhost:8080/"
    },
    "id": "X1ec_l8yME8R",
    "outputId": "f158d3b8-c78d-4c50-97f9-06ea39cc2b5b"
   },
   "outputs": [
    {
     "name": "stdout",
     "output_type": "stream",
     "text": [
      "0 0.881719331611068\n",
      "500 0.5881524243915477\n",
      "1000 0.5012378959005775\n",
      "1500 0.44505705967197223\n",
      "2000 0.406199640853622\n",
      "2500 0.37771576339220453\n",
      "3000 0.35583883448622555\n",
      "3500 0.3384047678040506\n",
      "4000 0.3240982139684052\n",
      "4500 0.31207879910187286\n",
      "5000 0.30178600738948846\n"
     ]
    }
   ],
   "source": [
    "eta = 0.01\n",
    "n_iterations = 5001\n",
    "m = len(X_train)\n",
    "epsilon = 1e-7\n",
    "\n",
    "for iteration in range(n_iterations):     # 5001번 반복 훈련\n",
    "    logits = X_train.dot(Theta)\n",
    "    Y_proba = logistic(logits)\n",
    "\n",
    "    if iteration % 500 == 0:              # 500 에포크마다 손실(비용) 계산해서 출력\n",
    "       loss = -1/m*(np.sum(y_train * np.log(Y_proba + epsilon) + (1 - y_train ) * np.log(1 - Y_proba + epsilon)))\n",
    "       print(iteration, loss)\n",
    "\n",
    "    error = Y_proba - y_train     # 그레이디언트 계산.\n",
    "    gradients = 1/m * X_train.T.dot(error)\n",
    "    \n",
    "    Theta = Theta - eta * gradients       # 파라미터 업데이트"
   ]
  },
  {
   "cell_type": "markdown",
   "metadata": {
    "id": "772hpLc5n8MM"
   },
   "source": [
    "학습된 파라미터는 다음과 같다"
   ]
  },
  {
   "cell_type": "code",
   "execution_count": null,
   "metadata": {
    "colab": {
     "base_uri": "https://localhost:8080/"
    },
    "id": "ZmH0q8LlV-2K",
    "outputId": "05100a39-98a2-4e01-a2f6-e47f2c2656fa"
   },
   "outputs": [
    {
     "data": {
      "text/plain": [
       "array([[-3.54053434],\n",
       "       [ 0.10800284],\n",
       "       [ 1.87232983]])"
      ]
     },
     "execution_count": 34,
     "metadata": {
      "tags": []
     },
     "output_type": "execute_result"
    }
   ],
   "source": [
    "Theta"
   ]
  },
  {
   "cell_type": "markdown",
   "metadata": {
    "id": "hH2tuSSIoWDM"
   },
   "source": [
    "검증 세트에 대한 예측과 정확도는 다음과 같다"
   ]
  },
  {
   "cell_type": "code",
   "execution_count": null,
   "metadata": {
    "colab": {
     "base_uri": "https://localhost:8080/"
    },
    "id": "E37ou2vioGUs",
    "outputId": "ae742d6b-1d3d-47e5-d8d6-a58d1f47dd0c"
   },
   "outputs": [
    {
     "data": {
      "text/plain": [
       "0.9666666666666667"
      ]
     },
     "execution_count": 35,
     "metadata": {
      "tags": []
     },
     "output_type": "execute_result"
    }
   ],
   "source": [
    "logits = X_valid.dot(Theta)              \n",
    "Y_proba = logistic(logits)\n",
    "y_predict = np.where(Y_proba >= 0.5, 1, 0)          # 확률이 0.5 이상이면 1, 아니면 0으로 표현\n",
    "\n",
    "accuracy_score = np.mean(y_predict == y_valid)  # 정확도 계산\n",
    "accuracy_score"
   ]
  },
  {
   "cell_type": "markdown",
   "metadata": {
    "id": "5ZZ8aBtLoZp1"
   },
   "source": [
    "##단계 6 : 규제가 추가된 경사하강법 활용 훈련"
   ]
  },
  {
   "cell_type": "code",
   "execution_count": null,
   "metadata": {
    "colab": {
     "base_uri": "https://localhost:8080/"
    },
    "id": "S5sdZ1vGWABa",
    "outputId": "902cdb65-ab1f-41be-c0e0-b7b332ceb230"
   },
   "outputs": [
    {
     "name": "stdout",
     "output_type": "stream",
     "text": [
      "0 1.786828011557888\n",
      "500 0.6482925837552796\n",
      "1000 0.5487774956653535\n",
      "1500 0.4930467279515948\n",
      "2000 0.45760168029521797\n",
      "2500 0.43301889366224006\n",
      "3000 0.41499023819981745\n",
      "3500 0.4012603391795303\n",
      "4000 0.3905134106604305\n",
      "4500 0.3819204233840173\n",
      "5000 0.37493027038065746\n"
     ]
    }
   ],
   "source": [
    "eta = 0.01\n",
    "n_iterations = 5001\n",
    "m = len(X_train)\n",
    "epsilon = 1e-7\n",
    "alpha = 0.1        # 규제 하이퍼파라미터\n",
    "\n",
    "Theta = np.random.randn(n_inputs, 1)  # 파라미터 새로 초기화\n",
    "\n",
    "for iteration in range(n_iterations):\n",
    "    logits = X_train.dot(Theta)\n",
    "    Y_proba = logistic(logits)\n",
    "    \n",
    "    if iteration % 500 == 0:\n",
    "        xentropy_loss = -1/m*(np.sum(y_train * np.log(Y_proba + epsilon) + (1 - y_train ) * np.log(1 - Y_proba + epsilon)))\n",
    "        l2_loss = 1/2 * np.sum(np.square(Theta[1:]))  # 편향은 규제에서 제외\n",
    "        loss = xentropy_loss + alpha * l2_loss        # l2 규제가 추가된 손실\n",
    "        print(iteration, loss)\n",
    "    \n",
    "    error = Y_proba - y_train\n",
    "    l2_loss_gradients = np.r_[np.zeros([1, 1]), alpha * Theta[1:]]   # l2 규제 그레이디언트\n",
    "    gradients = 1/m * X_train.T.dot(error) + l2_loss_gradients\n",
    "    \n",
    "    Theta = Theta - eta * gradients"
   ]
  },
  {
   "cell_type": "markdown",
   "metadata": {
    "id": "w8x5L2uNovZM"
   },
   "source": [
    "검증 세트에 대한 정확도"
   ]
  },
  {
   "cell_type": "code",
   "execution_count": null,
   "metadata": {
    "colab": {
     "base_uri": "https://localhost:8080/"
    },
    "id": "VlJSj_z1WBr5",
    "outputId": "93394336-c6c6-4f10-c605-b7c7d7f15ca2"
   },
   "outputs": [
    {
     "data": {
      "text/plain": [
       "0.9666666666666667"
      ]
     },
     "execution_count": 37,
     "metadata": {
      "tags": []
     },
     "output_type": "execute_result"
    }
   ],
   "source": [
    "logits = X_valid.dot(Theta)              \n",
    "Y_proba = logistic(logits)\n",
    "y_predict = np.where(Y_proba >= 0.5, 1, 0)          # 가장 높은 확률을 갖는 클래스 선택\n",
    "\n",
    "accuracy_score = np.mean(y_predict == y_valid)\n",
    "accuracy_score"
   ]
  },
  {
   "cell_type": "markdown",
   "metadata": {
    "id": "2Art9IOGoyaD"
   },
   "source": [
    "## 단계 7 : 조기 종료 추가\n",
    "위 규제가 사용된 모델의 훈련 과정에서 매 에포크마다 검증 세트에 대한 손실을 계산하여 오차가 줄어들다가 증가하기 시작할 때 멈추도록 한다"
   ]
  },
  {
   "cell_type": "code",
   "execution_count": null,
   "metadata": {
    "colab": {
     "base_uri": "https://localhost:8080/"
    },
    "id": "fw82T0AVWTZK",
    "outputId": "394358d3-b49c-4ecd-de02-4c8cce611918"
   },
   "outputs": [
    {
     "name": "stdout",
     "output_type": "stream",
     "text": [
      "0 0.3894074110194923\n",
      "500 0.1469946162902557\n",
      "685 0.14562413751155925\n",
      "686 0.1456241714788169 조기 종료!\n"
     ]
    }
   ],
   "source": [
    "eta = 0.1 \n",
    "n_iterations = 5001\n",
    "m = len(X_train)\n",
    "epsilon = 1e-7\n",
    "alpha = 0.1            # 규제 하이퍼파라미터\n",
    "best_loss = np.infty   # 최소 손실값 기억 변수\n",
    "\n",
    "Theta = np.random.randn(n_inputs, 1)  # 파라미터 새로 초기화\n",
    "\n",
    "for iteration in range(n_iterations):\n",
    "    # 훈련 및 손실 계산\n",
    "    logits = X_train.dot(Theta)\n",
    "    Y_proba = logistic(logits)\n",
    "    error = Y_proba - y_train\n",
    "    gradients = 1/m * X_train.T.dot(error) + np.r_[np.zeros([1, 1]), alpha * Theta[1:]]\n",
    "    Theta = Theta - eta * gradients\n",
    "\n",
    "    # 검증 세트에 대한 손실 계산\n",
    "    logits = X_valid.dot(Theta)\n",
    "    Y_proba = logistic(logits)\n",
    "    xentropy_loss = -1/m*(np.sum(y_valid * np.log(Y_proba + epsilon) + (1 - y_valid ) * np.log(1 - Y_proba + epsilon)))\n",
    "    l2_loss = 1/2 * np.sum(np.square(Theta[1:]))\n",
    "    loss = xentropy_loss + alpha * l2_loss\n",
    "    \n",
    "    # 500 에포크마다 검증 세트에 대한 손실 출력\n",
    "    if iteration % 500 == 0:\n",
    "        print(iteration, loss)\n",
    "        \n",
    "    # 에포크마다 최소 손실값 업데이트\n",
    "    if loss < best_loss:\n",
    "        best_loss = loss\n",
    "    else:                                      # 에포크가 줄어들지 않으면 바로 훈련 종료\n",
    "        print(iteration - 1, best_loss)        # 종료되지 이전 에포크의 손실값 출력\n",
    "        print(iteration, loss, \"조기 종료!\")\n",
    "        break"
   ]
  },
  {
   "cell_type": "markdown",
   "metadata": {
    "id": "9EcYC0svpO4C"
   },
   "source": [
    "검증 세트에 대한 정확도"
   ]
  },
  {
   "cell_type": "code",
   "execution_count": null,
   "metadata": {
    "colab": {
     "base_uri": "https://localhost:8080/"
    },
    "id": "LB582o5d6654",
    "outputId": "0eddd58b-3742-4315-ddf6-064206e62ce4"
   },
   "outputs": [
    {
     "data": {
      "text/plain": [
       "0.9666666666666667"
      ]
     },
     "execution_count": 39,
     "metadata": {
      "tags": []
     },
     "output_type": "execute_result"
    }
   ],
   "source": [
    "logits = X_valid.dot(Theta)              \n",
    "Y_proba = logistic(logits)\n",
    "y_predict = np.where(Y_proba >= 0.5, 1, 0)          # 가장 높은 확률을 갖는 클래스 선택\n",
    "\n",
    "accuracy_score = np.mean(y_predict == y_valid)\n",
    "accuracy_score"
   ]
  },
  {
   "cell_type": "markdown",
   "metadata": {
    "id": "CEOmEMo6pR0b"
   },
   "source": [
    "## 단계 8 : 테스트 평가\n",
    "마지막으로 테스트 세트에 대한 모델의 최종 성능을 정확도로 측정한다. "
   ]
  },
  {
   "cell_type": "code",
   "execution_count": null,
   "metadata": {
    "colab": {
     "base_uri": "https://localhost:8080/"
    },
    "id": "SD5zBan5WeEI",
    "outputId": "80ff25a3-ab7b-46e9-f682-1733ea666cb2"
   },
   "outputs": [
    {
     "data": {
      "text/plain": [
       "0.9333333333333333"
      ]
     },
     "execution_count": 40,
     "metadata": {
      "tags": []
     },
     "output_type": "execute_result"
    }
   ],
   "source": [
    "logits = X_test.dot(Theta)              \n",
    "Y_proba = logistic(logits)\n",
    "y_predict = np.where(Y_proba >= 0.5, 1, 0)          # 가장 높은 확률을 갖는 클래스 선택\n",
    "y_predict=np.reshape(y_predict,(-1))\n",
    "\n",
    "accuracy_score = np.mean(y_predict == y_test)\n",
    "accuracy_score"
   ]
  },
  {
   "cell_type": "markdown",
   "metadata": {
    "id": "DtcqJokHWJT8"
   },
   "source": [
    "# 과제 2\n",
    "과제 1에서 구현된 로지스틱 회귀 알고리즘에 일대다(OvR) 방식을 적용하여 붓꽃에 대한 다중 클래스 분류 알고리즘을 구현하라. 단 사이킷런을 전혀 사용하지 않아야 한다. "
   ]
  },
  {
   "cell_type": "markdown",
   "metadata": {
    "id": "HNMXhquvqP0A"
   },
   "source": [
    "## 단계 1 : 데이터 준비\n",
    "붓꽃 데이터셋의 꽃잎 길이와 꽃잎 너비 특성만 이용한다."
   ]
  },
  {
   "cell_type": "code",
   "execution_count": null,
   "metadata": {
    "id": "cuLGq6ugWMF0"
   },
   "outputs": [],
   "source": [
    "from sklearn import datasets\n",
    "iris = datasets.load_iris()\n",
    "X = iris[\"data\"][:, (2, 3)]  # 꽃잎 길이, 꽃잎 넓이\n",
    "y = iris[\"target\"]"
   ]
  },
  {
   "cell_type": "markdown",
   "metadata": {
    "id": "sMe-nLdtqXwR"
   },
   "source": [
    "모든 샘플에 편향을 추가한다. 이유는 아래 수식을 행렬 연산으로 보다 간단하게 처리하기 위해 0번 특성값 \n",
    "x\n",
    "0\n",
    "이 항상 1이라고 가정하기 때문이다"
   ]
  },
  {
   "cell_type": "code",
   "execution_count": null,
   "metadata": {
    "id": "xTJ-wtxmGNhO"
   },
   "outputs": [],
   "source": [
    "X_with_bias = np.c_[np.ones([len(X), 1]), X]"
   ]
  },
  {
   "cell_type": "markdown",
   "metadata": {
    "id": "_v3fOeDhqfUC"
   },
   "source": [
    "결과를 일정하게 유지하기 위해 랜덤 시드를 지정합니다. "
   ]
  },
  {
   "cell_type": "code",
   "execution_count": null,
   "metadata": {
    "id": "q0SwPAD3e8_3"
   },
   "outputs": [],
   "source": [
    "np.random.seed(2042)"
   ]
  },
  {
   "cell_type": "markdown",
   "metadata": {
    "id": "hTrVQbPRqmm3"
   },
   "source": [
    "## 단계 2 : 데이터셋 분할\n",
    "데이터셋을 훈련, 검증, 테스트 용도로 6대 2대 2의 비율로 무작위로 분할한다.\n",
    "* 훈련 세트: 60%\n",
    "* 검증 세트: 20%\n",
    "* 테스트 세트: 20%"
   ]
  },
  {
   "cell_type": "markdown",
   "metadata": {
    "id": "2QAHq9hCqzcp"
   },
   "source": [
    "아래 코드는 사이킷런의 train_test_split() 함수를 사용하지 않고 수동으로 무작위 분할하는 방법을 보여준다. 먼저 각 세트의 크기를 결정한다."
   ]
  },
  {
   "cell_type": "code",
   "execution_count": null,
   "metadata": {
    "id": "y2UH9GeXe98n"
   },
   "outputs": [],
   "source": [
    "test_ratio = 0.2                                         # 테스트 세트 비율 = 20%\n",
    "validation_ratio = 0.2                                   # 검증 세트 비율 = 20%\n",
    "total_size = len(X_with_bias)                            # 전체 데이터셋 크기\n",
    "\n",
    "test_size = int(total_size * test_ratio)                 # 테스트 세트 크기: 전체의 20%\n",
    "validation_size = int(total_size * validation_ratio)     # 검증 세트 크기: 전체의 20%\n",
    "train_size = total_size - test_size - validation_size    # 훈련 세트 크기: 전체의 60%"
   ]
  },
  {
   "cell_type": "markdown",
   "metadata": {
    "id": "P4XDLIcdq1ui"
   },
   "source": [
    "np.random.permutation() 함수를 이용하여 인덱스를 무작위로 섞는다."
   ]
  },
  {
   "cell_type": "code",
   "execution_count": null,
   "metadata": {
    "id": "5ErkK-Mne_Ci"
   },
   "outputs": [],
   "source": [
    "rnd_indices = np.random.permutation(total_size)"
   ]
  },
  {
   "cell_type": "markdown",
   "metadata": {
    "id": "ZZtkvxOLq4ZF"
   },
   "source": [
    "인덱스가 무작위로 섞였기 때문에 무작위로 분할하는 효과를 얻는다. 방법은 섞인 인덱스를 이용하여 지정된 6:2:2의 비율로 훈련, 검증, 테스트 세트로 분할하는 것이다."
   ]
  },
  {
   "cell_type": "code",
   "execution_count": null,
   "metadata": {
    "id": "m8p7Y1W-fAIA"
   },
   "outputs": [],
   "source": [
    "X_train = X_with_bias[rnd_indices[:train_size]]\n",
    "y_train = y[rnd_indices[:train_size]]\n",
    "\n",
    "X_valid = X_with_bias[rnd_indices[train_size:-test_size]]\n",
    "y_valid = y[rnd_indices[train_size:-test_size]]\n",
    "\n",
    "X_test = X_with_bias[rnd_indices[-test_size:]]\n",
    "y_test = y[rnd_indices[-test_size:]]"
   ]
  },
  {
   "cell_type": "markdown",
   "metadata": {
    "id": "W_zixoG9q7_R"
   },
   "source": [
    "## 단계 3 : 타깃 변환\n",
    "타깃은 0, 1, 2로 설정되어 있다. 차례대로 세토사, 버시컬러, 버지니카 품종을 가리킨다. 훈련 세트의 첫 5개 샘플의 품종은 다음과 같다"
   ]
  },
  {
   "cell_type": "code",
   "execution_count": null,
   "metadata": {
    "colab": {
     "base_uri": "https://localhost:8080/"
    },
    "id": "ctQ3PxejfB_g",
    "outputId": "4c5e0a21-d42f-48ef-e1e4-d1e4b98933ac"
   },
   "outputs": [
    {
     "data": {
      "text/plain": [
       "array([0, 1, 2, 1, 1])"
      ]
     },
     "execution_count": 8,
     "metadata": {
      "tags": []
     },
     "output_type": "execute_result"
    }
   ],
   "source": [
    "y_train[:5]"
   ]
  },
  {
   "cell_type": "markdown",
   "metadata": {
    "id": "3OdjSWRtr_hj"
   },
   "source": [
    "학습을 위해 타깃을 원-핫 벡터로 변환해야 한다. 이유는 소프트맥스 회귀는 샘플이 주어지면 각 클래스별로 속할 확률을 구하고 구해진 결과를 실제 확률과 함께 이용하여 비용함수를 계산하기 때문이다.\n",
    "\n",
    "붓꽃 데이터의 경우 세 개의 품종 클래스별로 속할 확률을 계산해야 하기 때문에 품종을 0, 1, 2 등의 하나의 숫자로 두기 보다는 해당 클래스는 1, 나머지는 0인 확률값으로 이루어진 어레이로 다루어야 소프트맥스 회귀가 계산한 클래스별 확률과 연결된다.\n",
    "\n",
    "아래 함수 to_one_hot() 함수는 길이가 m이면서 0, 1, 2로 이루어진 1차원 어레이가 입력되면 (m, 3) 모양의 원-핫 벡터를 반환한다."
   ]
  },
  {
   "cell_type": "code",
   "execution_count": null,
   "metadata": {
    "id": "GHNadRF7fC64"
   },
   "outputs": [],
   "source": [
    "def to_one_hot(y):\n",
    "    n_classes = y.max() + 1                 # 클래스 수\n",
    "    m = len(y)                              # 샘플 수\n",
    "    Y_one_hot = np.zeros((m, n_classes))    # (샘플 수, 클래스 수) 0-벡터 생성\n",
    "    Y_one_hot[np.arange(m), y] = 1          # 샘플 별로 해당 클래스의 값만 1로 변경. (넘파이 인덱싱 활용)\n",
    "    return Y_one_hot"
   ]
  },
  {
   "cell_type": "markdown",
   "metadata": {
    "id": "iBfk5l-UsDTb"
   },
   "source": [
    "샘플 5개에 대해 잘 작동하는 것을 확인할 수 있다."
   ]
  },
  {
   "cell_type": "code",
   "execution_count": null,
   "metadata": {
    "colab": {
     "base_uri": "https://localhost:8080/"
    },
    "id": "X_B-UpnOfEAO",
    "outputId": "e93d72e1-5aa0-4dc5-b341-9a41768b1e36"
   },
   "outputs": [
    {
     "data": {
      "text/plain": [
       "array([0, 1, 2, 1, 1])"
      ]
     },
     "execution_count": 10,
     "metadata": {
      "tags": []
     },
     "output_type": "execute_result"
    }
   ],
   "source": [
    "y_train[:5]"
   ]
  },
  {
   "cell_type": "code",
   "execution_count": null,
   "metadata": {
    "colab": {
     "base_uri": "https://localhost:8080/"
    },
    "id": "r1o0cI1GfFEY",
    "outputId": "f2a85c15-a59d-4291-d12d-63b06f31e4a3"
   },
   "outputs": [
    {
     "data": {
      "text/plain": [
       "array([[1., 0., 0.],\n",
       "       [0., 1., 0.],\n",
       "       [0., 0., 1.],\n",
       "       [0., 1., 0.],\n",
       "       [0., 1., 0.]])"
      ]
     },
     "execution_count": 11,
     "metadata": {
      "tags": []
     },
     "output_type": "execute_result"
    }
   ],
   "source": [
    "to_one_hot(y_train[:5])"
   ]
  },
  {
   "cell_type": "markdown",
   "metadata": {
    "id": "r7gK-nuCsGpw"
   },
   "source": [
    "이제 훈련/검증/테스트 세트의 타깃을 모두 원-핫 벡터로 변환한다"
   ]
  },
  {
   "cell_type": "code",
   "execution_count": null,
   "metadata": {
    "id": "CqsmoTZsfGA_"
   },
   "outputs": [],
   "source": [
    "Y_train_one_hot = to_one_hot(y_train)\n",
    "Y_valid_one_hot = to_one_hot(y_valid)\n",
    "Y_test_one_hot = to_one_hot(y_test)"
   ]
  },
  {
   "cell_type": "markdown",
   "metadata": {
    "id": "OWvflno5sWtj"
   },
   "source": [
    "원-핫 벡터로 변환된 훈련/검증/테스트 세트를 각각 세토사, 버지칼라, 버지니카 경우의 훈련/검증/테스트로 나눠준다"
   ]
  },
  {
   "cell_type": "code",
   "execution_count": null,
   "metadata": {
    "id": "Cl9WRn1ifHiU"
   },
   "outputs": [],
   "source": [
    "Setosa_train=Y_train_one_hot[:,0]\n",
    "Versicolor_train = Y_train_one_hot[:,1]\n",
    "Virginica_train = Y_train_one_hot[:,2]\n",
    "\n",
    "Setosa_valid = Y_valid_one_hot[:,0]\n",
    "Versicolor_valid = Y_valid_one_hot[:,1]\n",
    "Virginica_valid = Y_valid_one_hot[:,2]\n",
    "\n",
    "Setosa_test = Y_test_one_hot[:,0]\n",
    "Versicolor_test = Y_test_one_hot[:,1]\n",
    "Virginica_test = Y_test_one_hot[:,2]"
   ]
  },
  {
   "cell_type": "markdown",
   "metadata": {
    "id": "z5eZvdR3s0lu"
   },
   "source": [
    "세토사, 버지칼라, 버지니카 경우의 훈련/검증/테스트를 m*1행렬 형태로 바꿔준다"
   ]
  },
  {
   "cell_type": "code",
   "execution_count": null,
   "metadata": {
    "id": "eeUQw60OE2Vh"
   },
   "outputs": [],
   "source": [
    "Setosa_train = np.reshape(Setosa_train,(90,1))\n",
    "Versicolor_train = np.reshape(Versicolor_train,(90,1))\n",
    "Virginica_train = np.reshape(Virginica_train,(90,1))\n",
    "\n",
    "Setosa_valid = np.reshape(Setosa_valid,(30,1))\n",
    "Versicolor_valid = np.reshape(Versicolor_valid,(30,1))\n",
    "Virginica_valid = np.reshape(Virginica_valid,(30,1))\n",
    "\n",
    "y_valid = np.reshape(y_valid,(30,1))"
   ]
  },
  {
   "cell_type": "markdown",
   "metadata": {
    "id": "KJntxhgBtJI-"
   },
   "source": [
    "##단계 4 : 로지스틱 함수 구현"
   ]
  },
  {
   "cell_type": "code",
   "execution_count": null,
   "metadata": {
    "id": "rZ1S_RJh_GXw"
   },
   "outputs": [],
   "source": [
    "def logistic(logits):\n",
    "    return 1/(1 + np.exp(-logits))                   # 시그모이드 함수 "
   ]
  },
  {
   "cell_type": "markdown",
   "metadata": {
    "id": "VsStBvtJtQT4"
   },
   "source": [
    "##단계 5 : 경사하강법 활용 훈련"
   ]
  },
  {
   "cell_type": "code",
   "execution_count": null,
   "metadata": {
    "id": "QuCIHi6v_HFT"
   },
   "outputs": [],
   "source": [
    "n_inputs = X_train.shape[1]           # 특성 수(n) + 1, 붓꽃의 경우: 특성 2개 + 1"
   ]
  },
  {
   "cell_type": "markdown",
   "metadata": {
    "id": "c4-2anhhtVz8"
   },
   "source": [
    "세토사, 버지칼라, 버지니카 각각의 파라미터 세타를 무작위로 초기 설정한다. "
   ]
  },
  {
   "cell_type": "code",
   "execution_count": null,
   "metadata": {
    "id": "twHMWb8M_Qj9"
   },
   "outputs": [],
   "source": [
    "Theta_Setosa = np.random.randn(n_inputs, 1)\n",
    "Theta_Versicolor = np.random.randn(n_inputs, 1)\n",
    "Theta_Virginica = np.random.randn(n_inputs, 1)"
   ]
  },
  {
   "cell_type": "markdown",
   "metadata": {
    "id": "_nR0Ljp7JVBO"
   },
   "source": [
    "버지니카 배치 경사하강법 구현"
   ]
  },
  {
   "cell_type": "code",
   "execution_count": null,
   "metadata": {
    "colab": {
     "base_uri": "https://localhost:8080/"
    },
    "id": "a2_cJeRa_h8j",
    "outputId": "65ab4268-2104-49d6-c30c-edef666516b4"
   },
   "outputs": [
    {
     "name": "stdout",
     "output_type": "stream",
     "text": [
      "0 1.24300345889263\n",
      "500 0.7225341776177694\n",
      "1000 0.5840168541020665\n",
      "1500 0.4994640056646242\n",
      "2000 0.4444430012538986\n",
      "2500 0.4061493368052233\n",
      "3000 0.3779307885022022\n",
      "3500 0.3561651077443095\n",
      "4000 0.3387606059745092\n",
      "4500 0.32443981789478005\n",
      "5000 0.31238297396779313\n"
     ]
    }
   ],
   "source": [
    "eta = 0.01\n",
    "n_iterations = 5001\n",
    "m = len(X_train)\n",
    "epsilon = 1e-7\n",
    "\n",
    "for iteration in range(n_iterations):     # 5001번 반복 훈련\n",
    "    logits = X_train.dot(Theta_Virginica)\n",
    "    Y_proba = logistic(logits)\n",
    "\n",
    "    if iteration % 500 == 0:              # 500 에포크마다 손실(비용) 계산해서 출력\n",
    "       loss = -1/m*(np.sum(Virginica_train * np.log(Y_proba + epsilon) + (1 - Virginica_train ) * np.log(1 - Y_proba + epsilon)))\n",
    "       print(iteration, loss)\n",
    "\n",
    "    error = Y_proba - Virginica_train     # 그레이디언트 계산.\n",
    "    gradients = 1/m * X_train.T.dot(error)\n",
    "    \n",
    "    Theta_Virginica = Theta_Virginica - eta * gradients       # 파라미터 업데이트"
   ]
  },
  {
   "cell_type": "markdown",
   "metadata": {
    "id": "5k3eZwLfvegF"
   },
   "source": [
    "학습된 버지니카 파라미터는 다음과 같다."
   ]
  },
  {
   "cell_type": "code",
   "execution_count": null,
   "metadata": {
    "colab": {
     "base_uri": "https://localhost:8080/"
    },
    "id": "LDoTnTrnDv1C",
    "outputId": "22307068-cd8c-4906-e170-5e7be3db597b"
   },
   "outputs": [
    {
     "data": {
      "text/plain": [
       "array([[-3.44731107],\n",
       "       [ 0.19151479],\n",
       "       [ 1.56891593]])"
      ]
     },
     "execution_count": 19,
     "metadata": {
      "tags": []
     },
     "output_type": "execute_result"
    }
   ],
   "source": [
    "Theta_Virginica"
   ]
  },
  {
   "cell_type": "markdown",
   "metadata": {
    "id": "rbG8Wdnkvk13"
   },
   "source": [
    "세토사 배치 경사하강법 구현"
   ]
  },
  {
   "cell_type": "code",
   "execution_count": null,
   "metadata": {
    "colab": {
     "base_uri": "https://localhost:8080/"
    },
    "id": "lo824HA_ItHz",
    "outputId": "2c376d45-9ea8-41a0-aa32-0e65ddce595e"
   },
   "outputs": [
    {
     "name": "stdout",
     "output_type": "stream",
     "text": [
      "0 0.437577818353542\n",
      "500 0.31431995535530344\n",
      "1000 0.24739460329867496\n",
      "1500 0.2015867449720451\n",
      "2000 0.16903839269298135\n",
      "2500 0.14505018722266635\n",
      "3000 0.12678834326159452\n",
      "3500 0.11249465278438289\n",
      "4000 0.10104061337268973\n",
      "4500 0.09167722680238735\n",
      "5000 0.08389173872084243\n"
     ]
    }
   ],
   "source": [
    "eta = 0.01\n",
    "n_iterations = 5001\n",
    "m = len(X_train)\n",
    "epsilon = 1e-7\n",
    "\n",
    "for iteration in range(n_iterations):     # 5001번 반복 훈련\n",
    "    logits = X_train.dot(Theta_Setosa)\n",
    "    Y_proba = logistic(logits)\n",
    "\n",
    "    if iteration % 500 == 0:              # 500 에포크마다 손실(비용) 계산해서 출력\n",
    "       loss = -1/m*(np.sum(Setosa_train * np.log(Y_proba + epsilon) + (1 - Setosa_train ) * np.log(1 - Y_proba + epsilon)))\n",
    "       print(iteration, loss)\n",
    "\n",
    "    error = Y_proba - Setosa_train     # 그레이디언트 계산.\n",
    "    gradients = 1/m * X_train.T.dot(error)\n",
    "    \n",
    "    Theta_Setosa = Theta_Setosa - eta * gradients       # 파라미터 업데이트"
   ]
  },
  {
   "cell_type": "markdown",
   "metadata": {
    "id": "_aI1umYkvroD"
   },
   "source": [
    "학습된 세토사 파라미터는 다음과 같다."
   ]
  },
  {
   "cell_type": "code",
   "execution_count": null,
   "metadata": {
    "colab": {
     "base_uri": "https://localhost:8080/"
    },
    "id": "NUqLAAozJOt2",
    "outputId": "b3a02070-8b8a-494c-9585-f9aeb9a176be"
   },
   "outputs": [
    {
     "data": {
      "text/plain": [
       "array([[ 3.51327004],\n",
       "       [-0.98251761],\n",
       "       [-1.58220754]])"
      ]
     },
     "execution_count": 21,
     "metadata": {
      "tags": []
     },
     "output_type": "execute_result"
    }
   ],
   "source": [
    "Theta_Setosa"
   ]
  },
  {
   "cell_type": "markdown",
   "metadata": {
    "id": "E-DgmEg6vvr3"
   },
   "source": [
    "버지칼라 배치 경사하강법 구현"
   ]
  },
  {
   "cell_type": "code",
   "execution_count": null,
   "metadata": {
    "colab": {
     "base_uri": "https://localhost:8080/"
    },
    "id": "Rvs_fcHIJe5_",
    "outputId": "1678c246-303f-4156-b046-e19ad76cf546"
   },
   "outputs": [
    {
     "name": "stdout",
     "output_type": "stream",
     "text": [
      "0 1.2606929830898994\n",
      "500 0.6772281840254408\n",
      "1000 0.6495112807463842\n",
      "1500 0.6321202145095705\n",
      "2000 0.6208586756639016\n",
      "2500 0.61327529751536\n",
      "3000 0.6079464920366938\n",
      "3500 0.604036172333173\n",
      "4000 0.6010441944343213\n",
      "4500 0.5986650864781039\n",
      "5000 0.5967082592695107\n"
     ]
    }
   ],
   "source": [
    "eta = 0.01\n",
    "n_iterations = 5001\n",
    "m = len(X_train)\n",
    "epsilon = 1e-7\n",
    "\n",
    "for iteration in range(n_iterations):     # 5001번 반복 훈련\n",
    "    logits = X_train.dot(Theta_Versicolor)\n",
    "    Y_proba = logistic(logits)\n",
    "\n",
    "    if iteration % 500 == 0:              # 500 에포크마다 손실(비용) 계산해서 출력\n",
    "       loss = -1/m*(np.sum(Versicolor_train * np.log(Y_proba + epsilon) + (1 - Versicolor_train ) * np.log(1 - Y_proba + epsilon)))\n",
    "       print(iteration, loss)\n",
    "\n",
    "    error = Y_proba - Versicolor_train     # 그레이디언트 계산.\n",
    "    gradients = 1/m * X_train.T.dot(error)\n",
    "    \n",
    "    Theta_Versicolor = Theta_Versicolor - eta * gradients       # 파라미터 업데이트"
   ]
  },
  {
   "cell_type": "markdown",
   "metadata": {
    "id": "hrTR-1sWv5Ga"
   },
   "source": [
    "학습된 버지칼라 파라미터는 다음과 같다. "
   ]
  },
  {
   "cell_type": "code",
   "execution_count": null,
   "metadata": {
    "colab": {
     "base_uri": "https://localhost:8080/"
    },
    "id": "sgdRU35-Jtpw",
    "outputId": "258a519c-ebff-4e86-e9e0-e3c34c6a19de"
   },
   "outputs": [
    {
     "data": {
      "text/plain": [
       "array([[-1.5214239 ],\n",
       "       [ 0.39912725],\n",
       "       [-0.56169413]])"
      ]
     },
     "execution_count": 23,
     "metadata": {
      "tags": []
     },
     "output_type": "execute_result"
    }
   ],
   "source": [
    "Theta_Versicolor"
   ]
  },
  {
   "cell_type": "markdown",
   "metadata": {
    "id": "0jtiL49jKD4h"
   },
   "source": [
    "검증 세트에 대한 예측과 정확도는 다음과 같다. logits, Y_proba를 검증 세트인 X_valid를 이용하여 계산한다. 예측 클래스는 Y_proba에서 가장 큰 값을 갖는 인덱스로 선택한다. "
   ]
  },
  {
   "cell_type": "code",
   "execution_count": null,
   "metadata": {
    "colab": {
     "base_uri": "https://localhost:8080/"
    },
    "id": "rzF7d3RAKFu9",
    "outputId": "91fd678d-a496-4183-931e-103dd8dc3560"
   },
   "outputs": [
    {
     "data": {
      "text/plain": [
       "0.8666666666666667"
      ]
     },
     "execution_count": 24,
     "metadata": {
      "tags": []
     },
     "output_type": "execute_result"
    }
   ],
   "source": [
    "logits_Setosa = X_valid.dot(Theta_Setosa)\n",
    "logits_Versicolor = X_valid.dot(Theta_Versicolor)\n",
    "logits_Virginica = X_valid.dot(Theta_Virginica)\n",
    "\n",
    "Y_proba_Setosa = logistic(logits_Setosa)\n",
    "Y_proba_Versicolor = logistic(logits_Versicolor)\n",
    "Y_proba_Virginica = logistic(logits_Virginica)\n",
    "\n",
    "Y_proba = np.hstack((Y_proba_Setosa,Y_proba_Versicolor,Y_proba_Virginica))      # 각각의 Y_proba를 하나의 Y_proba로 합친다.\n",
    "y_predict = np.argmax(Y_proba, axis=1)          # 가장 높은 확률을 갖는 클래스 선택\n",
    "\n",
    "y_predict = np.reshape(y_predict,(30,1))\n",
    "\n",
    "accuracy_score = np.mean(y_predict == y_valid)  # 정확도 계산\n",
    "accuracy_score"
   ]
  },
  {
   "cell_type": "markdown",
   "metadata": {
    "id": "oziJrWfdVr-Y"
   },
   "source": [
    "##단계 6 : 규제가 추가된 경사하강법 활용 훈련\n",
    "ℓ\n",
    "2\n",
    "  규제가 추가된 경사하강법 훈련을 구현한다. 코드는 기본적으로 동일하다. 다만 손실(비용)에 \n",
    "ℓ\n",
    "2\n",
    " 페널티가 추가되었고 그래디언트에도 항이 추가되었다(Theta의 첫 번째 원소는 편향이므로 규제하지 않습니다)."
   ]
  },
  {
   "cell_type": "markdown",
   "metadata": {
    "id": "vVg401qU161c"
   },
   "source": [
    "세토사 배치 경사하강법 구현"
   ]
  },
  {
   "cell_type": "code",
   "execution_count": null,
   "metadata": {
    "colab": {
     "base_uri": "https://localhost:8080/"
    },
    "id": "ZRurlIQ5IZL_",
    "outputId": "69f80960-0dd8-4c29-fff2-d7940650354c"
   },
   "outputs": [
    {
     "name": "stdout",
     "output_type": "stream",
     "text": [
      "0 3.1352627662530685\n",
      "500 0.19141554248807\n",
      "1000 0.18332032150568228\n",
      "1500 0.18256117011272638\n",
      "2000 0.18247547741818204\n",
      "2500 0.1824652228133692\n",
      "3000 0.1824639712095209\n",
      "3500 0.1824638174022222\n",
      "4000 0.18246379845716532\n",
      "4500 0.18246379612213304\n",
      "5000 0.18246379583441202\n"
     ]
    }
   ],
   "source": [
    "eta = 0.1\n",
    "n_iterations = 5001\n",
    "m = len(X_train)\n",
    "epsilon = 1e-7\n",
    "alpha = 0.1        # 규제 하이퍼파라미터\n",
    "\n",
    "Theta_Setosa = np.random.randn(n_inputs, 1)  # 파라미터 새로 초기화\n",
    "\n",
    "for iteration in range(n_iterations):\n",
    "    logits = X_train.dot(Theta_Setosa)\n",
    "    Y_proba = logistic(logits)\n",
    "    \n",
    "    if iteration % 500 == 0:\n",
    "        xentropy_loss = -1/m*(np.sum(Setosa_train * np.log(Y_proba + epsilon) + (1 - Setosa_train ) * np.log(1 - Y_proba + epsilon)))\n",
    "        l2_loss = 1/2 * np.sum(np.square(Theta_Setosa[1:]))  # 편향은 규제에서 제외\n",
    "        loss = xentropy_loss + alpha * l2_loss        # l2 규제가 추가된 손실\n",
    "        print(iteration, loss)\n",
    "    \n",
    "    error = Y_proba - Setosa_train\n",
    "    l2_loss_gradients = np.r_[np.zeros([1, 1]), alpha * Theta_Setosa[1:]]   # l2 규제 그레이디언트\n",
    "    gradients = 1/m * X_train.T.dot(error) + l2_loss_gradients\n",
    "    \n",
    "    Theta_Setosa = Theta_Setosa - eta * gradients"
   ]
  },
  {
   "cell_type": "markdown",
   "metadata": {
    "id": "5CyZUhwg1-5I"
   },
   "source": [
    "버지칼라 배치 경사하강법 구현"
   ]
  },
  {
   "cell_type": "code",
   "execution_count": null,
   "metadata": {
    "colab": {
     "base_uri": "https://localhost:8080/"
    },
    "id": "eudVVvQqXJpa",
    "outputId": "080e383e-5bc9-46af-ad59-8ff5327d1ef6"
   },
   "outputs": [
    {
     "name": "stdout",
     "output_type": "stream",
     "text": [
      "0 1.7143076904453414\n",
      "500 0.6109654499109303\n",
      "1000 0.606642084457891\n",
      "1500 0.6065298575325324\n",
      "2000 0.6065265595915946\n",
      "2500 0.6065264605990892\n",
      "3000 0.6065264576158502\n",
      "3500 0.6065264575257266\n",
      "4000 0.6065264575229754\n",
      "4500 0.6065264575228864\n",
      "5000 0.6065264575228827\n"
     ]
    }
   ],
   "source": [
    "eta = 0.1\n",
    "n_iterations = 5001\n",
    "m = len(X_train)\n",
    "epsilon = 1e-7\n",
    "alpha = 0.1        # 규제 하이퍼파라미터\n",
    "\n",
    "Theta_Versicolor = np.random.randn(n_inputs, 1)  # 파라미터 새로 초기화\n",
    "\n",
    "for iteration in range(n_iterations):\n",
    "    logits = X_train.dot(Theta_Versicolor)\n",
    "    Y_proba = logistic(logits)\n",
    "    \n",
    "    if iteration % 500 == 0:\n",
    "        xentropy_loss = -1/m*(np.sum(Versicolor_train * np.log(Y_proba + epsilon) + (1 - Versicolor_train ) * np.log(1 - Y_proba + epsilon)))\n",
    "        l2_loss = 1/2 * np.sum(np.square(Theta_Versicolor[1:]))  # 편향은 규제에서 제외\n",
    "        loss = xentropy_loss + alpha * l2_loss        # l2 규제가 추가된 손실\n",
    "        print(iteration, loss)\n",
    "    \n",
    "    error = Y_proba - Versicolor_train\n",
    "    l2_loss_gradients = np.r_[np.zeros([1, 1]), alpha * Theta_Versicolor[1:]]   # l2 규제 그레이디언트\n",
    "    gradients = 1/m * X_train.T.dot(error) + l2_loss_gradients\n",
    "    \n",
    "    Theta_Versicolor = Theta_Versicolor - eta * gradients"
   ]
  },
  {
   "cell_type": "markdown",
   "metadata": {
    "id": "fG_3cPpP2CwA"
   },
   "source": [
    "버지니카 배치 경사하강법 구현"
   ]
  },
  {
   "cell_type": "code",
   "execution_count": null,
   "metadata": {
    "colab": {
     "base_uri": "https://localhost:8080/"
    },
    "id": "G93tNMNpXn1z",
    "outputId": "f8381e1f-6337-4ac6-e4e6-5636c30c46e4"
   },
   "outputs": [
    {
     "name": "stdout",
     "output_type": "stream",
     "text": [
      "0 3.8854347934040043\n",
      "500 0.3756223322184947\n",
      "1000 0.34404146852932377\n",
      "1500 0.3355453014987563\n",
      "2000 0.3325221034686029\n",
      "2500 0.331316668103372\n",
      "3000 0.3308073341053733\n",
      "3500 0.3305848928284968\n",
      "4000 0.3304857748355467\n",
      "4500 0.3304410443122014\n",
      "5000 0.3304206913149579\n"
     ]
    }
   ],
   "source": [
    "eta = 0.1\n",
    "n_iterations = 5001\n",
    "m = len(X_train)\n",
    "epsilon = 1e-7\n",
    "alpha = 0.1        # 규제 하이퍼파라미터\n",
    "\n",
    "Theta_Virginica = np.random.randn(n_inputs, 1)  # 파라미터 새로 초기화\n",
    "\n",
    "for iteration in range(n_iterations):\n",
    "    logits = X_train.dot(Theta_Virginica)\n",
    "    Y_proba = logistic(logits)\n",
    "    \n",
    "    if iteration % 500 == 0:\n",
    "        xentropy_loss = -1/m*(np.sum(Virginica_train * np.log(Y_proba + epsilon) + (1 - Virginica_train ) * np.log(1 - Y_proba + epsilon)))\n",
    "        l2_loss = 1/2 * np.sum(np.square(Theta_Virginica[1:]))  # 편향은 규제에서 제외\n",
    "        loss = xentropy_loss + alpha * l2_loss        # l2 규제가 추가된 손실\n",
    "        print(iteration, loss)\n",
    "    \n",
    "    error = Y_proba - Virginica_train\n",
    "    l2_loss_gradients = np.r_[np.zeros([1, 1]), alpha * Theta_Virginica[1:]]   # l2 규제 그레이디언트\n",
    "    gradients = 1/m * X_train.T.dot(error) + l2_loss_gradients\n",
    "    \n",
    "    Theta_Virginica = Theta_Virginica - eta * gradients"
   ]
  },
  {
   "cell_type": "code",
   "execution_count": null,
   "metadata": {
    "colab": {
     "base_uri": "https://localhost:8080/"
    },
    "id": "SXxSS6jiYNWZ",
    "outputId": "76c34c87-c36b-4d98-891b-36c56b030275"
   },
   "outputs": [
    {
     "data": {
      "text/plain": [
       "0.8333333333333334"
      ]
     },
     "execution_count": 28,
     "metadata": {
      "tags": []
     },
     "output_type": "execute_result"
    }
   ],
   "source": [
    "logits_Setosa = X_valid.dot(Theta_Setosa)\n",
    "logits_Versicolor = X_valid.dot(Theta_Versicolor)\n",
    "logits_Virginica = X_valid.dot(Theta_Virginica)\n",
    "\n",
    "Y_proba_Setosa = logistic(logits_Setosa)\n",
    "Y_proba_Versicolor = logistic(logits_Versicolor)\n",
    "Y_proba_Virginica = logistic(logits_Virginica)\n",
    "\n",
    "Y_proba = np.hstack((Y_proba_Setosa,Y_proba_Versicolor,Y_proba_Virginica))\n",
    "y_predict = np.argmax(Y_proba, axis=1)          # 가장 높은 확률을 갖는 클래스 선택\n",
    "\n",
    "y_predict = np.reshape(y_predict,(30,1))\n",
    "\n",
    "accuracy_score = np.mean(y_predict == y_valid)  # 정확도 계산\n",
    "accuracy_score"
   ]
  },
  {
   "cell_type": "markdown",
   "metadata": {
    "id": "rPP-kOCF2USD"
   },
   "source": [
    "##단계 7 : 조기 종료 추가\n",
    "위 규제가 사용된 모델의 훈련 과정에서 매 에포크마다 검증 세트에 대한 손실을 계산하여 오차가 줄어들다가 증가하기 시작할 때 멈추도록 한다"
   ]
  },
  {
   "cell_type": "markdown",
   "metadata": {
    "id": "8AxB_y4y3m8e"
   },
   "source": [
    "세토사 배치 경사하강법 구현"
   ]
  },
  {
   "cell_type": "code",
   "execution_count": null,
   "metadata": {
    "colab": {
     "base_uri": "https://localhost:8080/"
    },
    "id": "1j2GQxrnIlEw",
    "outputId": "809c5138-ec42-431c-e1af-925b0f0dd1b2"
   },
   "outputs": [
    {
     "name": "stdout",
     "output_type": "stream",
     "text": [
      "0 0.40942983139282796\n",
      "440 0.10361951656552942\n",
      "441 0.10361953261633167 조기 종료!\n"
     ]
    }
   ],
   "source": [
    "eta = 0.05 \n",
    "n_iterations = 5001\n",
    "m = len(X_train)\n",
    "epsilon = 1e-7\n",
    "alpha = 0.1            # 규제 하이퍼파라미터\n",
    "best_loss = np.infty   # 최소 손실값 기억 변수\n",
    "\n",
    "Theta_Setosa = np.random.randn(n_inputs, 1)  # 파라미터 새로 초기화\n",
    "\n",
    "for iteration in range(n_iterations):\n",
    "    # 훈련 및 손실 계산\n",
    "    logits = X_train.dot(Theta_Setosa)\n",
    "    Y_proba = logistic(logits)\n",
    "    error = Y_proba - Setosa_train\n",
    "    gradients = 1/m * X_train.T.dot(error) + np.r_[np.zeros([1, 1]), alpha * Theta_Setosa[1:]]\n",
    "    Theta_Setosa = Theta_Setosa - eta * gradients\n",
    "\n",
    "    # 검증 세트에 대한 손실 계산\n",
    "    logits = X_valid.dot(Theta_Setosa)\n",
    "    Y_proba = logistic(logits)\n",
    "    xentropy_loss = -1/m*(np.sum(Setosa_valid * np.log(Y_proba + epsilon) + (1 - Setosa_valid ) * np.log(1 - Y_proba + epsilon)))\n",
    "    l2_loss = 1/2 * np.sum(np.square(Theta_Setosa[1:]))\n",
    "    loss = xentropy_loss + alpha * l2_loss\n",
    "    \n",
    "    # 500 에포크마다 검증 세트에 대한 손실 출력\n",
    "    if iteration % 500 == 0:\n",
    "        print(iteration, loss)\n",
    "        \n",
    "    # 에포크마다 최소 손실값 업데이트\n",
    "    if loss < best_loss:\n",
    "        best_loss = loss\n",
    "    else:                                      # 에포크가 줄어들지 않으면 바로 훈련 종료\n",
    "        print(iteration - 1, best_loss)        # 종료되지 이전 에포크의 손실값 출력\n",
    "        print(iteration, loss, \"조기 종료!\")\n",
    "        break"
   ]
  },
  {
   "cell_type": "markdown",
   "metadata": {
    "id": "hZVuWLxF5M3a"
   },
   "source": [
    "버지칼라 배치 경사하강법 구현"
   ]
  },
  {
   "cell_type": "code",
   "execution_count": null,
   "metadata": {
    "colab": {
     "base_uri": "https://localhost:8080/"
    },
    "id": "R7jL4nHMKPcs",
    "outputId": "ff7556cf-3dd4-4090-e5d7-aaa201ee3e2a"
   },
   "outputs": [
    {
     "name": "stdout",
     "output_type": "stream",
     "text": [
      "0 0.416610961312532\n",
      "500 0.21643905889436313\n",
      "649 0.2160019181913218\n",
      "650 0.21600192445725527 조기 종료!\n"
     ]
    }
   ],
   "source": [
    "eta = 0.05 \n",
    "n_iterations = 5001\n",
    "m = len(X_train)\n",
    "epsilon = 1e-7\n",
    "alpha = 0.1            # 규제 하이퍼파라미터\n",
    "best_loss = np.infty   # 최소 손실값 기억 변수\n",
    "\n",
    "Theta_Versicolor = np.random.randn(n_inputs, 1)  # 파라미터 새로 초기화\n",
    "\n",
    "for iteration in range(n_iterations):\n",
    "    # 훈련 및 손실 계산\n",
    "    logits = X_train.dot(Theta_Versicolor)\n",
    "    Y_proba = logistic(logits)\n",
    "    error = Y_proba - Versicolor_train\n",
    "    gradients = 1/m * X_train.T.dot(error) + np.r_[np.zeros([1, 1]), alpha * Theta_Versicolor[1:]]\n",
    "    Theta_Versicolor = Theta_Versicolor - eta * gradients\n",
    "\n",
    "    # 검증 세트에 대한 손실 계산\n",
    "    logits = X_valid.dot(Theta_Versicolor)\n",
    "    Y_proba = logistic(logits)\n",
    "    xentropy_loss = -1/m*(np.sum(Versicolor_valid * np.log(Y_proba + epsilon) + (1 - Versicolor_valid ) * np.log(1 - Y_proba + epsilon)))\n",
    "    l2_loss = 1/2 * np.sum(np.square(Theta_Versicolor[1:]))\n",
    "    loss = xentropy_loss + alpha * l2_loss\n",
    "    \n",
    "    # 500 에포크마다 검증 세트에 대한 손실 출력\n",
    "    if iteration % 500 == 0:\n",
    "        print(iteration, loss)\n",
    "        \n",
    "    # 에포크마다 최소 손실값 업데이트\n",
    "    if loss < best_loss:\n",
    "        best_loss = loss\n",
    "    else:                                      # 에포크가 줄어들지 않으면 바로 훈련 종료\n",
    "        print(iteration - 1, best_loss)        # 종료되지 이전 에포크의 손실값 출력\n",
    "        print(iteration, loss, \"조기 종료!\")\n",
    "        break"
   ]
  },
  {
   "cell_type": "markdown",
   "metadata": {
    "id": "wDU5syOI5OAG"
   },
   "source": [
    "버지니카 배치 경사하강법 구현"
   ]
  },
  {
   "cell_type": "code",
   "execution_count": null,
   "metadata": {
    "colab": {
     "base_uri": "https://localhost:8080/"
    },
    "id": "8-6vkOd5Z0qw",
    "outputId": "dd635e00-b4e4-4bf1-a38a-6d678e25a621"
   },
   "outputs": [
    {
     "name": "stdout",
     "output_type": "stream",
     "text": [
      "0 0.5704494956493964\n",
      "500 0.16184061317591292\n",
      "1000 0.14696977605361503\n",
      "1357 0.14564294270457545\n",
      "1358 0.14564294530525182 조기 종료!\n"
     ]
    }
   ],
   "source": [
    "eta = 0.05 \n",
    "n_iterations = 5001\n",
    "m = len(X_train)\n",
    "epsilon = 1e-7\n",
    "alpha = 0.1            # 규제 하이퍼파라미터\n",
    "best_loss = np.infty   # 최소 손실값 기억 변수\n",
    "\n",
    "Theta_Virginica = np.random.randn(n_inputs, 1)  # 파라미터 새로 초기화\n",
    "\n",
    "for iteration in range(n_iterations):\n",
    "    # 훈련 및 손실 계산\n",
    "    logits = X_train.dot(Theta_Virginica)\n",
    "    Y_proba = logistic(logits)\n",
    "    error = Y_proba - Virginica_train\n",
    "    gradients = 1/m * X_train.T.dot(error) + np.r_[np.zeros([1, 1]), alpha * Theta_Virginica[1:]]\n",
    "    Theta_Virginica = Theta_Virginica - eta * gradients\n",
    "\n",
    "    # 검증 세트에 대한 손실 계산\n",
    "    logits = X_valid.dot(Theta_Virginica)\n",
    "    Y_proba = logistic(logits)\n",
    "    xentropy_loss = -1/m*(np.sum(Virginica_valid * np.log(Y_proba + epsilon) + (1 - Virginica_valid ) * np.log(1 - Y_proba + epsilon)))\n",
    "    l2_loss = 1/2 * np.sum(np.square(Theta_Virginica[1:]))\n",
    "    loss = xentropy_loss + alpha * l2_loss\n",
    "    \n",
    "    # 500 에포크마다 검증 세트에 대한 손실 출력\n",
    "    if iteration % 500 == 0:\n",
    "        print(iteration, loss)\n",
    "        \n",
    "    # 에포크마다 최소 손실값 업데이트\n",
    "    if loss < best_loss:\n",
    "        best_loss = loss\n",
    "    else:                                      # 에포크가 줄어들지 않으면 바로 훈련 종료\n",
    "        print(iteration - 1, best_loss)        # 종료되지 이전 에포크의 손실값 출력\n",
    "        print(iteration, loss, \"조기 종료!\")\n",
    "        break"
   ]
  },
  {
   "cell_type": "markdown",
   "metadata": {
    "id": "e_5KzXdu5SrT"
   },
   "source": [
    "검증 세트에 대한 정확도 검사"
   ]
  },
  {
   "cell_type": "code",
   "execution_count": null,
   "metadata": {
    "colab": {
     "base_uri": "https://localhost:8080/"
    },
    "id": "qNVh0HbeaguI",
    "outputId": "96c8bce5-091e-4bc7-87be-a98e2b91f3d5"
   },
   "outputs": [
    {
     "data": {
      "text/plain": [
       "0.8"
      ]
     },
     "execution_count": 32,
     "metadata": {
      "tags": []
     },
     "output_type": "execute_result"
    }
   ],
   "source": [
    "logits_Setosa = X_valid.dot(Theta_Setosa)\n",
    "logits_Versicolor = X_valid.dot(Theta_Versicolor)\n",
    "logits_Virginica = X_valid.dot(Theta_Virginica)\n",
    "\n",
    "Y_proba_Setosa = logistic(logits_Setosa)\n",
    "Y_proba_Versicolor = logistic(logits_Versicolor)\n",
    "Y_proba_Virginica = logistic(logits_Virginica)\n",
    "\n",
    "Y_proba = np.hstack((Y_proba_Setosa,Y_proba_Versicolor,Y_proba_Virginica))\n",
    "y_predict = np.argmax(Y_proba, axis=1)          # 가장 높은 확률을 갖는 클래스 선택\n",
    "\n",
    "y_predict = np.reshape(y_predict,(30,1))\n",
    "\n",
    "accuracy_score = np.mean(y_predict == y_valid)  # 정확도 계산\n",
    "accuracy_score"
   ]
  },
  {
   "cell_type": "markdown",
   "metadata": {
    "id": "yWcYl1a95WZM"
   },
   "source": [
    "##단계 8 : 테스트 세트 평가"
   ]
  },
  {
   "cell_type": "code",
   "execution_count": null,
   "metadata": {
    "colab": {
     "base_uri": "https://localhost:8080/"
    },
    "id": "66dlSzQ6gt5v",
    "outputId": "3bb45f55-b070-4f2f-ce97-23ba19b8952a"
   },
   "outputs": [
    {
     "data": {
      "text/plain": [
       "0.8333333333333334"
      ]
     },
     "execution_count": 33,
     "metadata": {
      "tags": []
     },
     "output_type": "execute_result"
    }
   ],
   "source": [
    "logits_Setosa = X_test.dot(Theta_Setosa)\n",
    "logits_Versicolor = X_test.dot(Theta_Versicolor)\n",
    "logits_Virginica = X_test.dot(Theta_Virginica)\n",
    "\n",
    "Y_proba_Setosa = logistic(logits_Setosa)\n",
    "Y_proba_Versicolor = logistic(logits_Versicolor)\n",
    "Y_proba_Virginica = logistic(logits_Virginica)\n",
    "\n",
    "Y_proba = np.hstack((Y_proba_Setosa,Y_proba_Versicolor,Y_proba_Virginica))\n",
    "y_predict = np.argmax(Y_proba, axis=1)          # 가장 높은 확률을 갖는 클래스 선택\n",
    "\n",
    "accuracy_score = np.mean(y_predict == y_test)  # 정확도 계산\n",
    "accuracy_score"
   ]
  },
  {
   "cell_type": "markdown",
   "metadata": {
    "id": "0wJST0ol7mpw"
   },
   "source": [
    "# 과제3\n",
    "A. 사진을 낮과 밤으로 분류하는 로지스틱 회귀 모델을 구현하라.\n",
    "\n",
    "B. 사진을 낮과 밤, 실내와 실외로 분류하는 다중 레이블 분류 모델을 두 개의 로지스틱 회귀 모델을 이용하여 구현하라.\n",
    "\n",
    "C. 과제 1에서 구현한 자신의 알고리즘과 사이킷런에서 제공하는 LogisticRegression 모델의 성능을 비교하라.\n",
    "\n",
    "단, 모델 구현에 필요한 사진을 직접 구해야 한다. 최소 100장 이상의 사진 활용해야 한다.\n",
    "\n",
    "A에서 직접 구현한 모델과 사이킷런의 로지스틱 모델의 성능비교를 하기위해 순서를 바꿔 A->C->B 순으로 진행한다."
   ]
  },
  {
   "cell_type": "markdown",
   "metadata": {
    "id": "rg7_M3zL7vBj"
   },
   "source": [
    "## A\n",
    "사진을 낮과 밤으로 분류하는 로지스틱 회귀 모델 구현"
   ]
  },
  {
   "cell_type": "markdown",
   "metadata": {
    "id": "x6iqrxNd7zfM"
   },
   "source": [
    "직접 수집한 이미지를 구글드라이브를 통해 다운로드받기"
   ]
  },
  {
   "cell_type": "code",
   "execution_count": null,
   "metadata": {
    "colab": {
     "base_uri": "https://localhost:8080/"
    },
    "id": "pYj3AOw670-e",
    "outputId": "9d6a2577-679f-4dba-9b3a-0d0364f284ab"
   },
   "outputs": [
    {
     "data": {
      "text/plain": [
       "('day_night.zip', <http.client.HTTPMessage at 0x7fcdd66eff10>)"
      ]
     },
     "execution_count": 2,
     "metadata": {
      "tags": []
     },
     "output_type": "execute_result"
    }
   ],
   "source": [
    "from urllib import request\n",
    "url = \"https://docs.google.com/uc?export=download&id=188AvTdwBIWfOxoES0hAVP5lRMasQvzkZ\"\n",
    "request.urlretrieve(url,\"day_night.zip\")"
   ]
  },
  {
   "cell_type": "markdown",
   "metadata": {
    "id": "MF_3PmR4FF-O"
   },
   "source": [
    "파일을 압축해제하기"
   ]
  },
  {
   "cell_type": "code",
   "execution_count": null,
   "metadata": {
    "id": "mYZTqSM88nfN"
   },
   "outputs": [],
   "source": [
    "import os\n",
    "import zipfile\n",
    "\n",
    "local_zip = '/content/day_night.zip'\n",
    "\n",
    "zip_ref = zipfile.ZipFile(local_zip, 'r')\n",
    "\n",
    "zip_ref.extractall('/content')\n",
    "zip_ref.close()"
   ]
  },
  {
   "cell_type": "markdown",
   "metadata": {
    "id": "hvBbk9e1F32P"
   },
   "source": [
    "작업에 필요한 모듈 임포트"
   ]
  },
  {
   "cell_type": "code",
   "execution_count": null,
   "metadata": {
    "id": "s3jLeRpdF1vx"
   },
   "outputs": [],
   "source": [
    "import numpy as np # linear algebra\n",
    "import pandas as pd # data processing, CSV file I/O (e.g. pd.read_csv)\n",
    "import matplotlib.pyplot as plt\n",
    "import cv2 \n",
    "import os \n",
    "from random import shuffle \n",
    "from tqdm import tqdm \n",
    "from PIL import Image\n",
    "# Input data files are available in the \"../input/\" directory.\n",
    "# For example, running this (by clicking run or pressing Shift+Enter) will list the files in the input directory\n",
    "import warnings\n",
    "warnings.filterwarnings('ignore')\n",
    "import os\n",
    "# Any results you write to the current directory are saved as output."
   ]
  },
  {
   "cell_type": "markdown",
   "metadata": {
    "id": "rhY0-7dbF6SO"
   },
   "source": [
    "label과 train, test에 따라 경로 지정하기"
   ]
  },
  {
   "cell_type": "code",
   "execution_count": null,
   "metadata": {
    "id": "prxmT4inF9h_"
   },
   "outputs": [],
   "source": [
    "train_day = \"day_night/train/day\"\n",
    "train_night= \"day_night/train/night\"\n",
    "test_day= \"day_night/test/day\"\n",
    "test_night= \"day_night/test/night\"\n",
    "image_size = 128"
   ]
  },
  {
   "cell_type": "markdown",
   "metadata": {
    "id": "g7rY2soqR1nm"
   },
   "source": [
    "위의 과정이 제대로 되었는지 확인하기 위해 시험삼아 이미지를 불러온다."
   ]
  },
  {
   "cell_type": "code",
   "execution_count": null,
   "metadata": {
    "colab": {
     "base_uri": "https://localhost:8080/"
    },
    "id": "OMgpC9E7GGmP",
    "outputId": "efe1583f-8b5c-47a2-b078-f3cf61804717"
   },
   "outputs": [
    {
     "data": {
      "image/png": "[encoded data removed]",
      "text/plain": [
       "<PIL.JpegImagePlugin.JpegImageFile image mode=RGB size=100x100 at 0x7FCDCCFD1DD0>"
      ]
     },
     "execution_count": 6,
     "metadata": {
      "tags": []
     },
     "output_type": "execute_result"
    }
   ],
   "source": [
    "Image.open(\"day_night/train/day/day120.jpg\")"
   ]
  },
  {
   "cell_type": "code",
   "execution_count": null,
   "metadata": {
    "colab": {
     "base_uri": "https://localhost:8080/"
    },
    "id": "QARTcNRAQ6Ym",
    "outputId": "cd812fc1-405a-49f2-b297-67a3baa98620"
   },
   "outputs": [
    {
     "data": {
      "image/png": "[encoded data removed]",
      "text/plain": [
       "<PIL.JpegImagePlugin.JpegImageFile image mode=RGB size=100x56 at 0x7FCDCCFB9FD0>"
      ]
     },
     "execution_count": 7,
     "metadata": {
      "tags": []
     },
     "output_type": "execute_result"
    }
   ],
   "source": [
    "Image.open(\"day_night/train/night/night120.jpg\")"
   ]
  },
  {
   "cell_type": "markdown",
   "metadata": {
    "id": "NO2qCiJLR4g-"
   },
   "source": [
    "수집되어있는 사진들은 사이즈가 모두 제각각이다.\n",
    "\n",
    "머신러닝은 사진의 크기에 따라 특성수를 다르게 받아들이기때문에 이를 조정해주는 작업이 필요하다.\n",
    "\n",
    "이를 resize라하고, 코드는 아래와 같다."
   ]
  },
  {
   "cell_type": "code",
   "execution_count": null,
   "metadata": {
    "colab": {
     "base_uri": "https://localhost:8080/"
    },
    "id": "C7Ee0-aQG-yk",
    "outputId": "bb364a90-deb6-4383-cb0f-9c035da32c50"
   },
   "outputs": [
    {
     "name": "stderr",
     "output_type": "stream",
     "text": [
      "100%|██████████| 100/100 [00:00<00:00, 2506.65it/s]\n",
      "100%|██████████| 100/100 [00:00<00:00, 2969.38it/s]\n"
     ]
    },
    {
     "data": {
      "text/plain": [
       "Text(0.5, 1.0, 'day and night in GrayScale')"
      ]
     },
     "execution_count": 8,
     "metadata": {
      "tags": []
     },
     "output_type": "execute_result"
    },
    {
     "data": {
      "image/png": "[encoded data removed]",
      "text/plain": [
       "<Figure size 720x720 with 2 Axes>"
      ]
     },
     "metadata": {
      "needs_background": "light",
      "tags": []
     },
     "output_type": "display_data"
    }
   ],
   "source": [
    "for image in tqdm(os.listdir(train_night)): \n",
    "    path = os.path.join(train_night, image)\n",
    "    img = cv2.imread(path, cv2.IMREAD_GRAYSCALE) \n",
    "    img = cv2.resize(img, (image_size, image_size)).flatten()   \n",
    "    np_img=np.asarray(img)\n",
    "    \n",
    "for image2 in tqdm(os.listdir(train_day)): \n",
    "    path = os.path.join(train_day, image2)\n",
    "    img2 = cv2.imread(path, cv2.IMREAD_GRAYSCALE) \n",
    "    img2 = cv2.resize(img2, (image_size, image_size)).flatten() \n",
    "    np_img2=np.asarray(img2)\n",
    "\n",
    "plt.figure(figsize=(10,10))\n",
    "plt.subplot(1, 2, 1)\n",
    "plt.imshow(np_img.reshape(image_size, image_size))\n",
    "plt.axis('off')\n",
    "plt.subplot(1, 2, 2)\n",
    "plt.imshow(np_img2.reshape(image_size, image_size))\n",
    "plt.axis('off')\n",
    "plt.title(\"day and night in GrayScale\")"
   ]
  },
  {
   "cell_type": "markdown",
   "metadata": {
    "id": "FvGzBBHBR-Wt"
   },
   "source": [
    "경로에 따라 나뉘어져 있는 낮과 밤사진들을\n",
    "\n",
    "하나의 트레이닝 셋으로 합쳐주는 과정이 필요하다.\n",
    "\n",
    "이 과정에 데이터 라벨링이 완료된다."
   ]
  },
  {
   "cell_type": "code",
   "execution_count": null,
   "metadata": {
    "id": "HvVg-Rc5L5MA"
   },
   "outputs": [],
   "source": [
    "def train_data():\n",
    "    train_data_night = [] \n",
    "    train_data_day=[]\n",
    "    for image1 in tqdm(os.listdir(train_night)): \n",
    "        path = os.path.join(train_night, image1)\n",
    "        img1 = cv2.imread(path, cv2.IMREAD_GRAYSCALE) \n",
    "        img1 = cv2.resize(img1, (image_size, image_size))\n",
    "        train_data_night.append(img1) \n",
    "    for image2 in tqdm(os.listdir(train_day)): \n",
    "        path = os.path.join(train_day, image2)\n",
    "        img2 = cv2.imread(path, cv2.IMREAD_GRAYSCALE) \n",
    "        img2 = cv2.resize(img2, (image_size, image_size))\n",
    "        train_data_day.append(img2) \n",
    "    \n",
    "    train_data= np.concatenate((np.asarray(train_data_night),np.asarray(train_data_day)),axis=0)\n",
    "    return train_data "
   ]
  },
  {
   "cell_type": "markdown",
   "metadata": {
    "id": "24LnvYScSBwE"
   },
   "source": [
    "같은 작업을 테스트셋에 대해서도 해준다."
   ]
  },
  {
   "cell_type": "code",
   "execution_count": null,
   "metadata": {
    "id": "nlh1G77ERCwl"
   },
   "outputs": [],
   "source": [
    "def test_data():\n",
    "    test_data_night = [] \n",
    "    test_data_day=[]\n",
    "    for image1 in tqdm(os.listdir(test_night)): \n",
    "        path = os.path.join(test_night, image1)\n",
    "        img1 = cv2.imread(path, cv2.IMREAD_GRAYSCALE) \n",
    "        img1 = cv2.resize(img1, (image_size, image_size))\n",
    "        test_data_night.append(img1) \n",
    "    for image2 in tqdm(os.listdir(test_day)): \n",
    "        path = os.path.join(test_day, image2)\n",
    "        img2 = cv2.imread(path, cv2.IMREAD_GRAYSCALE) \n",
    "        img2 = cv2.resize(img2, (image_size, image_size))\n",
    "        test_data_day.append(img2) \n",
    "    \n",
    "    test_data= np.concatenate((np.asarray(test_data_night),np.asarray(test_data_day)),axis=0) \n",
    "    return test_data "
   ]
  },
  {
   "cell_type": "markdown",
   "metadata": {
    "id": "ziU3X3KgSEKO"
   },
   "source": [
    "이제 트레인셋과 테스트셋 설정 해준다.\n",
    "\n",
    "아래의 과정에서 features와 label을 분리하여 저장한다."
   ]
  },
  {
   "cell_type": "code",
   "execution_count": null,
   "metadata": {
    "colab": {
     "base_uri": "https://localhost:8080/"
    },
    "id": "wPahZH44REiR",
    "outputId": "0a400526-c5c1-40c6-bf41-1b1515a2572d"
   },
   "outputs": [
    {
     "name": "stderr",
     "output_type": "stream",
     "text": [
      "100%|██████████| 100/100 [00:00<00:00, 5042.99it/s]\n",
      "100%|██████████| 100/100 [00:00<00:00, 2775.50it/s]\n",
      "100%|██████████| 49/49 [00:00<00:00, 3660.47it/s]\n",
      "100%|██████████| 49/49 [00:00<00:00, 3879.07it/s]\n"
     ]
    }
   ],
   "source": [
    "train_data = train_data() \n",
    "test_data = test_data()"
   ]
  },
  {
   "cell_type": "code",
   "execution_count": null,
   "metadata": {
    "id": "4LUU-YzDRGBm"
   },
   "outputs": [],
   "source": [
    "x_data=np.concatenate((train_data,test_data),axis=0)\n",
    "x_data = (x_data-np.min(x_data))/(np.max(x_data)-np.min(x_data))"
   ]
  },
  {
   "cell_type": "code",
   "execution_count": null,
   "metadata": {
    "id": "5XKdaleYRHsA"
   },
   "outputs": [],
   "source": [
    "z1 = np.zeros(100)\n",
    "o1 = np.ones(100)\n",
    "Y_train = np.concatenate((o1, z1), axis=0)\n",
    "z = np.zeros(49)\n",
    "o = np.ones(49)\n",
    "Y_test = np.concatenate((o, z), axis=0)"
   ]
  },
  {
   "cell_type": "code",
   "execution_count": null,
   "metadata": {
    "id": "aeZVUmlCRJAe"
   },
   "outputs": [],
   "source": [
    "y_data=np.concatenate((Y_train,Y_test),axis=0).reshape(x_data.shape[0],1)"
   ]
  },
  {
   "cell_type": "code",
   "execution_count": null,
   "metadata": {
    "colab": {
     "base_uri": "https://localhost:8080/"
    },
    "id": "j8XG_mQYRKiI",
    "outputId": "97cc4b5f-26c7-495d-c991-6f30d81138c8"
   },
   "outputs": [
    {
     "name": "stdout",
     "output_type": "stream",
     "text": [
      "X shape:  (298, 128, 128)\n",
      "Y shape:  (298, 1)\n"
     ]
    }
   ],
   "source": [
    "print(\"X shape: \" , x_data.shape)\n",
    "print(\"Y shape: \" , y_data.shape)"
   ]
  },
  {
   "cell_type": "markdown",
   "metadata": {
    "id": "z5Uf9IDzSI-P"
   },
   "source": [
    "사이킷런의 train_test_spilit 활용 train, test셋 분리하기."
   ]
  },
  {
   "cell_type": "code",
   "execution_count": null,
   "metadata": {
    "id": "ssQBLuOnRcck"
   },
   "outputs": [],
   "source": [
    "from sklearn.model_selection import train_test_split\n",
    "x_train, x_test, y_train, y_test = train_test_split(x_data, y_data, test_size=0.15, random_state=42)\n",
    "number_of_train = x_train.shape[0]\n",
    "number_of_test = x_test.shape[0]"
   ]
  },
  {
   "cell_type": "code",
   "execution_count": null,
   "metadata": {
    "colab": {
     "base_uri": "https://localhost:8080/"
    },
    "id": "CS1Aw-r3Rd21",
    "outputId": "43845e5b-b10f-48c4-be04-1e7ba9ad7d8d"
   },
   "outputs": [
    {
     "name": "stdout",
     "output_type": "stream",
     "text": [
      "X train flatten (253, 16384)\n",
      "X test flatten (45, 16384)\n"
     ]
    }
   ],
   "source": [
    "x_train_flatten = x_train.reshape(number_of_train,x_train.shape[1]*x_train.shape[2])\n",
    "x_test_flatten = x_test .reshape(number_of_test,x_test.shape[1]*x_test.shape[2])\n",
    "print(\"X train flatten\",x_train_flatten.shape)\n",
    "print(\"X test flatten\",x_test_flatten.shape)"
   ]
  },
  {
   "cell_type": "code",
   "execution_count": null,
   "metadata": {
    "colab": {
     "base_uri": "https://localhost:8080/"
    },
    "id": "eT3pDAj7RfrM",
    "outputId": "6036bfe5-727d-4ddd-e09e-237b2af457a3"
   },
   "outputs": [
    {
     "name": "stdout",
     "output_type": "stream",
     "text": [
      "x train:  (16384, 253)\n",
      "x test:  (16384, 45)\n",
      "y train:  (1, 253)\n",
      "y test:  (1, 45)\n"
     ]
    }
   ],
   "source": [
    "x_train = x_train_flatten.T\n",
    "x_test = x_test_flatten.T\n",
    "y_test = y_test.T\n",
    "y_train = y_train.T\n",
    "day_night_y_test = y_test\n",
    "print(\"x train: \",x_train.shape)\n",
    "print(\"x test: \",x_test.shape)\n",
    "print(\"y train: \",y_train.shape)\n",
    "print(\"y test: \",y_test.shape)"
   ]
  },
  {
   "cell_type": "markdown",
   "metadata": {
    "id": "UjxOA6t1SLi7"
   },
   "source": [
    "데이터 전처리가 완료되었다.\n",
    "\n",
    "다음으로 로지스틱 모델을 직접 구현해준다."
   ]
  },
  {
   "cell_type": "code",
   "execution_count": null,
   "metadata": {
    "id": "LcYmpN_YRhQn"
   },
   "outputs": [],
   "source": [
    "def initialize_weights_and_bias(dimension):\n",
    "    w = np.full((dimension,1),0.01)\n",
    "    b = 0.0\n",
    "    return w, b\n",
    "\n",
    "def sigmoid(z):\n",
    "    y_head = 1/(1+np.exp(-z))\n",
    "    return y_head\n",
    "\n",
    "def forward_backward_propagation(w,b,x_train,y_train):\n",
    "    # forward propagation\n",
    "    z = np.dot(w.T,x_train) + b\n",
    "    y_head = sigmoid(z)\n",
    "    loss = -y_train*np.log(y_head)-(1-y_train)*np.log(1-y_head)\n",
    "    cost = (np.sum(loss))/x_train.shape[1]\n",
    "    # backward propagation\n",
    "    derivative_weight = (np.dot(x_train,((y_head-y_train).T)))/x_train.shape[1]\n",
    "    derivative_bias = np.sum(y_head-y_train)/x_train.shape[1]\n",
    "    gradients = {\"derivative_weight\": derivative_weight,\"derivative_bias\": derivative_bias}\n",
    "    return cost,gradients\n",
    "\n",
    "def update(w, b, x_train, y_train, learning_rate,number_of_iterarion):\n",
    "    cost_list = []\n",
    "    cost_list2 = []\n",
    "    index = []\n",
    "    \n",
    "    for i in range(number_of_iterarion):\n",
    "        \n",
    "        cost,gradients = forward_backward_propagation(w,b,x_train,y_train)\n",
    "        cost_list.append(cost)\n",
    "        \n",
    "        w = w - learning_rate * gradients[\"derivative_weight\"]\n",
    "        b = b - learning_rate * gradients[\"derivative_bias\"]\n",
    "        if i % 100 == 0:\n",
    "            cost_list2.append(cost)\n",
    "            index.append(i)\n",
    "            print (\"Cost after iteration %i: %f\" %(i, cost))\n",
    "    \n",
    "    parameters = {\"weight\": w,\"bias\": b}\n",
    "    plt.plot(index,cost_list2)\n",
    "    plt.xticks(index,rotation='vertical')\n",
    "    plt.xlabel(\"Number of Iterarion\")\n",
    "    plt.ylabel(\"Cost\")\n",
    "    plt.show()\n",
    "    return parameters, gradients, cost_list\n",
    "\n",
    "def predict(w,b,x_test):\n",
    "    \n",
    "    z = sigmoid(np.dot(w.T,x_test)+b)\n",
    "    Y_prediction = np.zeros((1,x_test.shape[1]))\n",
    "\n",
    "    for i in range(z.shape[1]):\n",
    "        if z[0,i]<= 0.5:\n",
    "            Y_prediction[0,i] = 0\n",
    "        else:\n",
    "            Y_prediction[0,i] = 1\n",
    "\n",
    "    return Y_prediction\n",
    "\n",
    "def logistic_regression(x_train, y_train, x_test, y_test, learning_rate ,  num_iterations):\n",
    "\n",
    "    dimension =  x_train.shape[0]\n",
    "    w,b = initialize_weights_and_bias(dimension)\n",
    "\n",
    "    parameters, gradients, cost_list = update(w, b, x_train, y_train, learning_rate,num_iterations)\n",
    "    \n",
    "    y_prediction_test = predict(parameters[\"weight\"],parameters[\"bias\"],x_test)\n",
    "    y_prediction_train = predict(parameters[\"weight\"],parameters[\"bias\"],x_train)\n",
    "    \n",
    "    print(\"Test Accuracy: {} %\".format(round(100 - np.mean(np.abs(y_prediction_test - y_test)) * 100,2)))\n",
    "    print(\"Train Accuracy: {} %\".format(round(100 - np.mean(np.abs(y_prediction_train - y_train)) * 100,2)))"
   ]
  },
  {
   "cell_type": "markdown",
   "metadata": {
    "id": "gwhIFUhDSTpq"
   },
   "source": [
    "에포크는 1500으로, 학습률을 0.01으로 지정한뒤에 학습을 시작한다."
   ]
  },
  {
   "cell_type": "code",
   "execution_count": null,
   "metadata": {
    "colab": {
     "base_uri": "https://localhost:8080/"
    },
    "id": "tjjzB76iRkOs",
    "outputId": "e73844e7-cd32-46a2-df6c-6093d4bdd8d4"
   },
   "outputs": [
    {
     "name": "stdout",
     "output_type": "stream",
     "text": [
      "Cost after iteration 0: nan\n",
      "Cost after iteration 100: 0.700453\n",
      "Cost after iteration 200: 0.555647\n",
      "Cost after iteration 300: 0.462679\n",
      "Cost after iteration 400: 0.390070\n",
      "Cost after iteration 500: 0.333758\n",
      "Cost after iteration 600: 0.289998\n",
      "Cost after iteration 700: 0.255797\n",
      "Cost after iteration 800: 0.228877\n",
      "Cost after iteration 900: 0.207715\n",
      "Cost after iteration 1000: 0.192459\n",
      "Cost after iteration 1100: 0.182707\n",
      "Cost after iteration 1200: 0.174281\n",
      "Cost after iteration 1300: 0.166583\n",
      "Cost after iteration 1400: 0.159520\n"
     ]
    },
    {
     "data": {
      "image/png": "[encoded data removed]",
      "text/plain": [
       "<Figure size 432x288 with 1 Axes>"
      ]
     },
     "metadata": {
      "needs_background": "light",
      "tags": []
     },
     "output_type": "display_data"
    },
    {
     "name": "stdout",
     "output_type": "stream",
     "text": [
      "Test Accuracy: 84.44 %\n",
      "Train Accuracy: 98.02 %\n"
     ]
    }
   ],
   "source": [
    "logistic_regression(x_train, y_train, x_test, y_test,learning_rate = 0.01, num_iterations = 1500)"
   ]
  },
  {
   "cell_type": "markdown",
   "metadata": {
    "id": "oFpmxk4PSWa4"
   },
   "source": [
    "## C\n",
    "과제 1에서 구현한 자신의 알고리즘과 사이킷런에서 제공하는 LogisticRegression 모델의 성능을 비교하라."
   ]
  },
  {
   "cell_type": "markdown",
   "metadata": {
    "id": "7AGW2GF7SZS0"
   },
   "source": [
    "사이킷런 LogisticRegression에 넣기위해 데이터의 형태를 맞춰준다."
   ]
  },
  {
   "cell_type": "code",
   "execution_count": null,
   "metadata": {
    "colab": {
     "base_uri": "https://localhost:8080/"
    },
    "id": "imyOFdppRmu6",
    "outputId": "7069adfd-c40c-46b1-c07d-3952561f37a8"
   },
   "outputs": [
    {
     "data": {
      "text/plain": [
       "(16384, 253)"
      ]
     },
     "execution_count": 21,
     "metadata": {
      "tags": []
     },
     "output_type": "execute_result"
    }
   ],
   "source": [
    "x_train.shape"
   ]
  },
  {
   "cell_type": "code",
   "execution_count": null,
   "metadata": {
    "colab": {
     "base_uri": "https://localhost:8080/"
    },
    "id": "rQ_lygrjSbgH",
    "outputId": "6d59f49d-2a95-4a2b-c4b3-3cbd35a17b18"
   },
   "outputs": [
    {
     "data": {
      "text/plain": [
       "(1, 253)"
      ]
     },
     "execution_count": 22,
     "metadata": {
      "tags": []
     },
     "output_type": "execute_result"
    }
   ],
   "source": [
    "y_train.shape"
   ]
  },
  {
   "cell_type": "code",
   "execution_count": null,
   "metadata": {
    "id": "Yic7dAVMSdKA"
   },
   "outputs": [],
   "source": [
    "y_train2 = np.array([])\n",
    "for i in y_train:\n",
    "  y_train2 = np.append(y_train2, np.array([i]))"
   ]
  },
  {
   "cell_type": "code",
   "execution_count": null,
   "metadata": {
    "id": "P5RWgZWwSedM"
   },
   "outputs": [],
   "source": [
    "y_test2 = np.array([])\n",
    "for i in y_test:\n",
    "  y_test2 = np.append(y_test2, np.array([i]))"
   ]
  },
  {
   "cell_type": "code",
   "execution_count": null,
   "metadata": {
    "colab": {
     "base_uri": "https://localhost:8080/"
    },
    "id": "CElAh3EkSfv4",
    "outputId": "925686b5-397e-4ceb-de8c-56ca0e4a6322"
   },
   "outputs": [
    {
     "data": {
      "text/plain": [
       "(253,)"
      ]
     },
     "execution_count": 25,
     "metadata": {
      "tags": []
     },
     "output_type": "execute_result"
    }
   ],
   "source": [
    "y_train2.shape"
   ]
  },
  {
   "cell_type": "markdown",
   "metadata": {
    "id": "eO-EH9N1Sjmz"
   },
   "source": [
    "slover값을 'saga'로 지정, multi_class를 'multinomial'로 지정하면 로지스틱모델을 이용할수있다."
   ]
  },
  {
   "cell_type": "code",
   "execution_count": null,
   "metadata": {
    "id": "rpkaIIk8SjLL"
   },
   "outputs": [],
   "source": [
    "from sklearn.linear_model import LogisticRegression\n",
    "\n",
    "clf = LogisticRegression(penalty='none', \n",
    "                         tol=0.1, solver='saga',\n",
    "                         multi_class='multinomial').fit(x_train.T, y_train2)"
   ]
  },
  {
   "cell_type": "code",
   "execution_count": null,
   "metadata": {
    "colab": {
     "base_uri": "https://localhost:8080/"
    },
    "id": "JT1nR1bzShEj",
    "outputId": "68faab76-a8e3-4317-ef80-416f8091bfb2"
   },
   "outputs": [
    {
     "data": {
      "text/plain": [
       "0.7333333333333333"
      ]
     },
     "execution_count": 27,
     "metadata": {
      "tags": []
     },
     "output_type": "execute_result"
    }
   ],
   "source": [
    "clf.score(x_test.T, y_test2)"
   ]
  },
  {
   "cell_type": "code",
   "execution_count": null,
   "metadata": {
    "id": "L9aOjMgVSo3O"
   },
   "outputs": [],
   "source": [
    "pred1 = clf.predict(x_test.T)"
   ]
  },
  {
   "cell_type": "markdown",
   "metadata": {
    "id": "UZO7Dy_oTMPY"
   },
   "source": [
    "직접 구현한 로지스틱 모델의 정확도는 약 84% 사이킷런에 내장된 로지스틱 모델의 정확도는 약 68%로\n",
    "\n",
    "직접 구현한 로지스틱 모델이 더 정확함을 알 수 있다."
   ]
  },
  {
   "cell_type": "markdown",
   "metadata": {
    "id": "4CG0F9815Hdn"
   },
   "source": [
    "## B\n",
    "사진을 낮과 밤, 실내와 실외로 분류하는 다중 레이블 분류 모델을 두 개의 로지스틱 회귀 모델을 이용하여 구현하라."
   ]
  },
  {
   "cell_type": "markdown",
   "metadata": {
    "id": "WDLR43tN5KJG"
   },
   "source": [
    "두 개의 로지스틱 회귀모델중, 낮과 밤을 분류하는 모델은 위에서 이미 만들었으므로\n",
    "\n",
    "여기에서는 먼저 실내와 실외를 분류하는 로지스틱 모델을 만들도록 한다.\n",
    "\n",
    "과정은 낮과 밤을 분류할때와 거의 유사하므로 비슷한부분은 아주 간단하게만 집고 넘어간다."
   ]
  },
  {
   "cell_type": "markdown",
   "metadata": {
    "id": "0IBnPfTs5Mjz"
   },
   "source": [
    "구글 드라이브에서 실내와 실외의 데이터 다운로드"
   ]
  },
  {
   "cell_type": "code",
   "execution_count": null,
   "metadata": {
    "colab": {
     "base_uri": "https://localhost:8080/"
    },
    "id": "j3tYfbJ4TWFp",
    "outputId": "028af87c-c32f-48bb-a2e4-9ebb9288d5e1"
   },
   "outputs": [
    {
     "data": {
      "text/plain": [
       "('indoor_outdoor.zip', <http.client.HTTPMessage at 0x7fcdc0b66750>)"
      ]
     },
     "execution_count": 29,
     "metadata": {
      "tags": []
     },
     "output_type": "execute_result"
    }
   ],
   "source": [
    "from urllib import request\n",
    "url = \"https://docs.google.com/uc?export=download&id=1II2gidsGqhsJKP2Sfpd0YRHnA0UhKUu6\"\n",
    "request.urlretrieve(url,\"indoor_outdoor.zip\")"
   ]
  },
  {
   "cell_type": "markdown",
   "metadata": {
    "id": "C4DBE8oX5wIt"
   },
   "source": [
    "압축풀기"
   ]
  },
  {
   "cell_type": "code",
   "execution_count": null,
   "metadata": {
    "id": "7ri4GDYT5u13"
   },
   "outputs": [],
   "source": [
    "import os\n",
    "import zipfile\n",
    "\n",
    "local_zip = '/content/indoor_outdoor.zip'\n",
    "\n",
    "zip_ref = zipfile.ZipFile(local_zip, 'r')\n",
    "\n",
    "zip_ref.extractall('/content')\n",
    "zip_ref.close()"
   ]
  },
  {
   "cell_type": "markdown",
   "metadata": {
    "id": "dhEwexBb50Vy"
   },
   "source": [
    "경로지정"
   ]
  },
  {
   "cell_type": "code",
   "execution_count": null,
   "metadata": {
    "id": "9RAQfe-h5zEU"
   },
   "outputs": [],
   "source": [
    "train_indoor = \"indoor_outdoor/train/indoor\"\n",
    "train_outdoor= \"indoor_outdoor/train/outdoor\"\n",
    "test_indoor= \"indoor_outdoor/test/indoor\"\n",
    "test_outdoor= \"indoor_outdoor/test/outdoor\"\n",
    "image_size = 128"
   ]
  },
  {
   "cell_type": "markdown",
   "metadata": {
    "id": "mY-AUK0T7EPD"
   },
   "source": [
    "제대로 다운로드가 완료되었는지 체크"
   ]
  },
  {
   "cell_type": "code",
   "execution_count": null,
   "metadata": {
    "colab": {
     "base_uri": "https://localhost:8080/",
     "height": 64
    },
    "id": "MHf2Xica511n",
    "outputId": "ff82b386-91b3-45e6-c07b-19a218c239bd"
   },
   "outputs": [
    {
     "data": {
      "image/png": "[encoded data removed]",
      "text/plain": [
       "<PIL.JpegImagePlugin.JpegImageFile image mode=RGB size=70x47 at 0x7FCDC0B66250>"
      ]
     },
     "execution_count": 32,
     "metadata": {
      "tags": []
     },
     "output_type": "execute_result"
    }
   ],
   "source": [
    "Image.open(\"indoor_outdoor/train/indoor/indoor1.jpg\")"
   ]
  },
  {
   "cell_type": "code",
   "execution_count": null,
   "metadata": {
    "colab": {
     "base_uri": "https://localhost:8080/",
     "height": 64
    },
    "id": "7pIM39U054q4",
    "outputId": "ac447fde-5dc2-460a-efa1-c0b53beb0d7a"
   },
   "outputs": [
    {
     "data": {
      "image/png": "[encoded data removed]",
      "text/plain": [
       "<PIL.JpegImagePlugin.JpegImageFile image mode=RGB size=70x47 at 0x7FCDC0B66F50>"
      ]
     },
     "execution_count": 33,
     "metadata": {
      "tags": []
     },
     "output_type": "execute_result"
    }
   ],
   "source": [
    "Image.open(\"indoor_outdoor/train/outdoor/outdoor1.jpg\")"
   ]
  },
  {
   "cell_type": "markdown",
   "metadata": {
    "id": "olwVSrl57IWd"
   },
   "source": [
    "사진 리사이즈"
   ]
  },
  {
   "cell_type": "code",
   "execution_count": null,
   "metadata": {
    "colab": {
     "base_uri": "https://localhost:8080/",
     "height": 355
    },
    "id": "Q6CvWPnN7HKG",
    "outputId": "bc49b218-ae0d-4e7a-e888-5be3f1f91d0d"
   },
   "outputs": [
    {
     "name": "stderr",
     "output_type": "stream",
     "text": [
      "100%|██████████| 100/100 [00:00<00:00, 5768.54it/s]\n",
      "100%|██████████| 100/100 [00:00<00:00, 6733.94it/s]\n"
     ]
    },
    {
     "data": {
      "text/plain": [
       "Text(0.5, 1.0, 'indoor and outdoor in GrayScale')"
      ]
     },
     "execution_count": 34,
     "metadata": {
      "tags": []
     },
     "output_type": "execute_result"
    },
    {
     "data": {
      "image/png": "[encoded data removed]",
      "text/plain": [
       "<Figure size 720x720 with 2 Axes>"
      ]
     },
     "metadata": {
      "needs_background": "light",
      "tags": []
     },
     "output_type": "display_data"
    }
   ],
   "source": [
    "for image in tqdm(os.listdir(train_indoor)): \n",
    "    path = os.path.join(train_indoor, image)\n",
    "    img = cv2.imread(path, cv2.IMREAD_GRAYSCALE) \n",
    "    img = cv2.resize(img, (image_size, image_size)).flatten()   \n",
    "    np_img=np.asarray(img)\n",
    "    \n",
    "for image2 in tqdm(os.listdir(train_outdoor)): \n",
    "    path = os.path.join(train_outdoor, image2)\n",
    "    img2 = cv2.imread(path, cv2.IMREAD_GRAYSCALE) \n",
    "    img2 = cv2.resize(img2, (image_size, image_size)).flatten() \n",
    "    np_img2=np.asarray(img2)\n",
    "\n",
    "plt.figure(figsize=(10,10))\n",
    "plt.subplot(1, 2, 1)\n",
    "plt.imshow(np_img.reshape(image_size, image_size))\n",
    "plt.axis('off')\n",
    "plt.subplot(1, 2, 2)\n",
    "plt.imshow(np_img2.reshape(image_size, image_size))\n",
    "plt.axis('off')\n",
    "plt.title(\"indoor and outdoor in GrayScale\")"
   ]
  },
  {
   "cell_type": "markdown",
   "metadata": {
    "id": "EYAQEMmN7NcQ"
   },
   "source": [
    "트레인/데이터셋 구성하기"
   ]
  },
  {
   "cell_type": "code",
   "execution_count": null,
   "metadata": {
    "id": "faG7--oJ7Lj1"
   },
   "outputs": [],
   "source": [
    "def train_data():\n",
    "    train_data_indoor = [] \n",
    "    train_data_outdoor=[]\n",
    "    for image1 in tqdm(os.listdir(train_indoor)): \n",
    "        path = os.path.join(train_indoor, image1)\n",
    "        img1 = cv2.imread(path, cv2.IMREAD_GRAYSCALE) \n",
    "        img1 = cv2.resize(img1, (image_size, image_size))\n",
    "        train_data_indoor.append(img1) \n",
    "    for image2 in tqdm(os.listdir(train_outdoor)): \n",
    "        path = os.path.join(train_outdoor, image2)\n",
    "        img2 = cv2.imread(path, cv2.IMREAD_GRAYSCALE) \n",
    "        img2 = cv2.resize(img2, (image_size, image_size))\n",
    "        train_data_outdoor.append(img2) \n",
    "    \n",
    "    train_data= np.concatenate((np.asarray(train_data_indoor),np.asarray(train_data_outdoor)),axis=0)\n",
    "    return train_data "
   ]
  },
  {
   "cell_type": "code",
   "execution_count": null,
   "metadata": {
    "id": "mA68TJg87Pwz"
   },
   "outputs": [],
   "source": [
    "def test_data():\n",
    "    test_data_indoor = [] \n",
    "    test_data_outdoor=[]\n",
    "    for image1 in tqdm(os.listdir(test_indoor)): \n",
    "        path = os.path.join(test_indoor, image1)\n",
    "        img1 = cv2.imread(path, cv2.IMREAD_GRAYSCALE) \n",
    "        img1 = cv2.resize(img1, (image_size, image_size))\n",
    "        test_data_indoor.append(img1) \n",
    "    for image2 in tqdm(os.listdir(test_outdoor)): \n",
    "        path = os.path.join(test_outdoor, image2)\n",
    "        img2 = cv2.imread(path, cv2.IMREAD_GRAYSCALE) \n",
    "        img2 = cv2.resize(img2, (image_size, image_size))\n",
    "        test_data_outdoor.append(img2) \n",
    "    \n",
    "    test_data= np.concatenate((np.asarray(test_data_indoor),np.asarray(test_data_outdoor)),axis=0) \n",
    "    return test_data "
   ]
  },
  {
   "cell_type": "code",
   "execution_count": null,
   "metadata": {
    "colab": {
     "base_uri": "https://localhost:8080/"
    },
    "id": "2XIkZiBW7TXk",
    "outputId": "6bd1267a-f9cd-4301-c181-2b8355336543"
   },
   "outputs": [
    {
     "name": "stderr",
     "output_type": "stream",
     "text": [
      "100%|██████████| 100/100 [00:00<00:00, 4690.36it/s]\n",
      "100%|██████████| 100/100 [00:00<00:00, 4512.09it/s]\n",
      "100%|██████████| 47/47 [00:00<00:00, 4063.08it/s]\n",
      "100%|██████████| 47/47 [00:00<00:00, 3816.25it/s]\n"
     ]
    }
   ],
   "source": [
    "train_data = train_data() \n",
    "test_data = test_data()"
   ]
  },
  {
   "cell_type": "code",
   "execution_count": null,
   "metadata": {
    "id": "MApopiGd7Unx"
   },
   "outputs": [],
   "source": [
    "x_data=np.concatenate((train_data,test_data),axis=0)\n",
    "x_data = (x_data-np.min(x_data))/(np.max(x_data)-np.min(x_data))"
   ]
  },
  {
   "cell_type": "code",
   "execution_count": null,
   "metadata": {
    "id": "pKnGrQ0t7WFD"
   },
   "outputs": [],
   "source": [
    "z1 = np.zeros(100)\n",
    "o1 = np.ones(100)\n",
    "Y_train = np.concatenate((o1, z1), axis=0)\n",
    "z = np.zeros(47)\n",
    "o = np.ones(47)\n",
    "Y_test = np.concatenate((o, z), axis=0)"
   ]
  },
  {
   "cell_type": "code",
   "execution_count": null,
   "metadata": {
    "id": "fjuebDp57ZW7"
   },
   "outputs": [],
   "source": [
    "y_data=np.concatenate((Y_train,Y_test),axis=0).reshape(x_data.shape[0],1)"
   ]
  },
  {
   "cell_type": "code",
   "execution_count": null,
   "metadata": {
    "colab": {
     "base_uri": "https://localhost:8080/"
    },
    "id": "D5n4FBo47aVE",
    "outputId": "067b22f6-8aab-4e25-e9a3-1aab9c318b6e"
   },
   "outputs": [
    {
     "name": "stdout",
     "output_type": "stream",
     "text": [
      "X shape:  (294, 128, 128)\n",
      "Y shape:  (294, 1)\n"
     ]
    }
   ],
   "source": [
    "print(\"X shape: \" , x_data.shape)\n",
    "print(\"Y shape: \" , y_data.shape)"
   ]
  },
  {
   "cell_type": "markdown",
   "metadata": {
    "id": "kAckNohG7cyK"
   },
   "source": [
    "사이킷런 train_test_split을 이용해 트레이닝셋과 테스트셋 분리하기"
   ]
  },
  {
   "cell_type": "code",
   "execution_count": null,
   "metadata": {
    "id": "5bf0RJqB7bkP"
   },
   "outputs": [],
   "source": [
    "from sklearn.model_selection import train_test_split\n",
    "x_train, x_test, y_train, y_test = train_test_split(x_data, y_data, test_size=0.15, random_state=42)\n",
    "number_of_train = x_train.shape[0]\n",
    "number_of_test = x_test.shape[0]"
   ]
  },
  {
   "cell_type": "code",
   "execution_count": null,
   "metadata": {
    "colab": {
     "base_uri": "https://localhost:8080/"
    },
    "id": "UFViDmIl7eeq",
    "outputId": "dba64f2e-a0d2-40e2-f2b9-0015610a444f"
   },
   "outputs": [
    {
     "name": "stdout",
     "output_type": "stream",
     "text": [
      "X train flatten (249, 16384)\n",
      "X test flatten (45, 16384)\n"
     ]
    }
   ],
   "source": [
    "x_train_flatten = x_train.reshape(number_of_train,x_train.shape[1]*x_train.shape[2])\n",
    "x_test_flatten = x_test .reshape(number_of_test,x_test.shape[1]*x_test.shape[2])\n",
    "print(\"X train flatten\",x_train_flatten.shape)\n",
    "print(\"X test flatten\",x_test_flatten.shape)"
   ]
  },
  {
   "cell_type": "code",
   "execution_count": null,
   "metadata": {
    "colab": {
     "base_uri": "https://localhost:8080/"
    },
    "id": "33mwgb8q7fuc",
    "outputId": "447980da-8096-4311-949f-24b2256c2c73"
   },
   "outputs": [
    {
     "name": "stdout",
     "output_type": "stream",
     "text": [
      "x train:  (16384, 249)\n",
      "x test:  (16384, 45)\n",
      "y train:  (1, 249)\n",
      "y test:  (1, 45)\n"
     ]
    }
   ],
   "source": [
    "x_train = x_train_flatten.T\n",
    "x_test = x_test_flatten.T\n",
    "y_test = y_test.T\n",
    "y_train = y_train.T\n",
    "out_doors_y_test = y_test\n",
    "print(\"x train: \",x_train.shape)\n",
    "print(\"x test: \",x_test.shape)\n",
    "print(\"y train: \",y_train.shape)\n",
    "print(\"y test: \",y_test.shape)"
   ]
  },
  {
   "cell_type": "code",
   "execution_count": null,
   "metadata": {
    "id": "U4ZP4Fth7g0s"
   },
   "outputs": [],
   "source": [
    "def initialize_weights_and_bias(dimension):\n",
    "    w = np.full((dimension,1),0.01)\n",
    "    b = 0.0\n",
    "    return w, b\n",
    "\n",
    "def sigmoid(z):\n",
    "    y_head = 1/(1+np.exp(-z))\n",
    "    return y_head\n",
    "\n",
    "def forward_backward_propagation(w,b,x_train,y_train):\n",
    "    # forward propagation\n",
    "    z = np.dot(w.T,x_train) + b\n",
    "    y_head = sigmoid(z)\n",
    "    loss = -y_train*np.log(y_head)-(1-y_train)*np.log(1-y_head)\n",
    "    cost = (np.sum(loss))/x_train.shape[1]\n",
    "    # backward propagation\n",
    "    derivative_weight = (np.dot(x_train,((y_head-y_train).T)))/x_train.shape[1]\n",
    "    derivative_bias = np.sum(y_head-y_train)/x_train.shape[1]\n",
    "    gradients = {\"derivative_weight\": derivative_weight,\"derivative_bias\": derivative_bias}\n",
    "    return cost,gradients\n",
    "\n",
    "def update(w, b, x_train, y_train, learning_rate,number_of_iterarion):\n",
    "    cost_list = []\n",
    "    cost_list2 = []\n",
    "    index = []\n",
    "    \n",
    "    for i in range(number_of_iterarion):\n",
    "        \n",
    "        cost,gradients = forward_backward_propagation(w,b,x_train,y_train)\n",
    "        cost_list.append(cost)\n",
    "        \n",
    "        w = w - learning_rate * gradients[\"derivative_weight\"]\n",
    "        b = b - learning_rate * gradients[\"derivative_bias\"]\n",
    "        if i % 100 == 0:\n",
    "            cost_list2.append(cost)\n",
    "            index.append(i)\n",
    "            print (\"Cost after iteration %i: %f\" %(i, cost))\n",
    "    \n",
    "    parameters = {\"weight\": w,\"bias\": b}\n",
    "    plt.plot(index,cost_list2)\n",
    "    plt.xticks(index,rotation='vertical')\n",
    "    plt.xlabel(\"Number of Iterarion\")\n",
    "    plt.ylabel(\"Cost\")\n",
    "    plt.show()\n",
    "    return parameters, gradients, cost_list\n",
    "\n",
    "def predict(w,b,x_test):\n",
    "    \n",
    "    z = sigmoid(np.dot(w.T,x_test)+b)\n",
    "    Y_prediction = np.zeros((1,x_test.shape[1]))\n",
    "\n",
    "    for i in range(z.shape[1]):\n",
    "        if z[0,i]<= 0.5:\n",
    "            Y_prediction[0,i] = 0\n",
    "        else:\n",
    "            Y_prediction[0,i] = 1\n",
    "\n",
    "    return Y_prediction\n",
    "\n",
    "def logistic_regression(x_train, y_train, x_test, y_test, learning_rate ,  num_iterations):\n",
    "\n",
    "    dimension =  x_train.shape[0]\n",
    "    w,b = initialize_weights_and_bias(dimension)\n",
    "\n",
    "    parameters, gradients, cost_list = update(w, b, x_train, y_train, learning_rate,num_iterations)\n",
    "    \n",
    "    y_prediction_test = predict(parameters[\"weight\"],parameters[\"bias\"],x_test)\n",
    "    y_prediction_train = predict(parameters[\"weight\"],parameters[\"bias\"],x_train)\n",
    "    \n",
    "    print(\"Test Accuracy: {} %\".format(round(100 - np.mean(np.abs(y_prediction_test - y_test)) * 100,2)))\n",
    "    print(\"Train Accuracy: {} %\".format(round(100 - np.mean(np.abs(y_prediction_train - y_train)) * 100,2)))"
   ]
  },
  {
   "cell_type": "markdown",
   "metadata": {
    "id": "F3mpiscm7kJi"
   },
   "source": [
    "학습시작"
   ]
  },
  {
   "cell_type": "code",
   "execution_count": null,
   "metadata": {
    "colab": {
     "base_uri": "https://localhost:8080/",
     "height": 610
    },
    "id": "0ZbP07uX7i-I",
    "outputId": "603d2ae8-e14e-4236-fd37-a7c2077c7c60"
   },
   "outputs": [
    {
     "name": "stdout",
     "output_type": "stream",
     "text": [
      "Cost after iteration 0: nan\n",
      "Cost after iteration 100: 1.909631\n",
      "Cost after iteration 200: 1.647339\n",
      "Cost after iteration 300: 1.469631\n",
      "Cost after iteration 400: 1.332520\n",
      "Cost after iteration 500: 1.213623\n",
      "Cost after iteration 600: 1.099559\n",
      "Cost after iteration 700: 0.991571\n",
      "Cost after iteration 800: 0.883707\n",
      "Cost after iteration 900: 0.364562\n",
      "Cost after iteration 1000: 1.894717\n",
      "Cost after iteration 1100: 0.807344\n",
      "Cost after iteration 1200: 0.230169\n",
      "Cost after iteration 1300: 0.147862\n",
      "Cost after iteration 1400: 0.165920\n"
     ]
    },
    {
     "data": {
      "image/png": "[encoded data removed]",
      "text/plain": [
       "<Figure size 432x288 with 1 Axes>"
      ]
     },
     "metadata": {
      "needs_background": "light",
      "tags": []
     },
     "output_type": "display_data"
    },
    {
     "name": "stdout",
     "output_type": "stream",
     "text": [
      "Test Accuracy: 62.22 %\n",
      "Train Accuracy: 97.19 %\n"
     ]
    }
   ],
   "source": [
    "logistic_regression(x_train, y_train, x_test, y_test,learning_rate = 0.01, num_iterations = 1500)"
   ]
  },
  {
   "cell_type": "markdown",
   "metadata": {
    "id": "YurDYUeH7s34"
   },
   "source": [
    "결과가 62%로 과대적합 된 것으로 생각된다."
   ]
  },
  {
   "cell_type": "markdown",
   "metadata": {
    "id": "3oHUA0u97xM8"
   },
   "source": [
    "이번엔 마찬가지로 사이킷런과 성능비교를 해본다."
   ]
  },
  {
   "cell_type": "code",
   "execution_count": null,
   "metadata": {
    "id": "UrEYiCIE7mEn"
   },
   "outputs": [],
   "source": [
    "in_out_y_train = np.array([])\n",
    "for i in y_train:\n",
    "  in_out_y_train = np.append(in_out_y_train, np.array([i]))"
   ]
  },
  {
   "cell_type": "code",
   "execution_count": null,
   "metadata": {
    "id": "-9rd_O1C7y__"
   },
   "outputs": [],
   "source": [
    "in_out_y_test = np.array([])\n",
    "for i in y_test:\n",
    "  in_out_y_test = np.append(in_out_y_test, np.array([i]))"
   ]
  },
  {
   "cell_type": "code",
   "execution_count": null,
   "metadata": {
    "colab": {
     "base_uri": "https://localhost:8080/"
    },
    "id": "w8_yW22z70XX",
    "outputId": "bead014d-1c89-445c-d8b2-edc09cc37ba4"
   },
   "outputs": [
    {
     "data": {
      "text/plain": [
       "array([1., 1., 0., 0., 0., 0., 0., 1., 0., 1., 1., 1., 0., 1., 0., 1., 1.,\n",
       "       0., 1., 1., 0., 0., 1., 0., 0., 1., 1., 0., 0., 1., 1., 0., 0., 0.,\n",
       "       1., 0., 1., 1., 0., 0., 1., 0., 1., 1., 0.])"
      ]
     },
     "execution_count": 49,
     "metadata": {
      "tags": []
     },
     "output_type": "execute_result"
    }
   ],
   "source": [
    "in_out_y_test"
   ]
  },
  {
   "cell_type": "code",
   "execution_count": null,
   "metadata": {
    "id": "eDLd3B4y71La"
   },
   "outputs": [],
   "source": [
    "from sklearn.linear_model import LogisticRegression\n",
    "\n",
    "lg2 = LogisticRegression(penalty='none', \n",
    "                         tol=0.1, solver='saga',C = 0.5,\n",
    "                         multi_class='multinomial').fit(x_train.T, in_out_y_train)"
   ]
  },
  {
   "cell_type": "code",
   "execution_count": null,
   "metadata": {
    "id": "FcgG5byu72nQ"
   },
   "outputs": [],
   "source": [
    "pred2 = lg2.predict(x_test.T)"
   ]
  },
  {
   "cell_type": "code",
   "execution_count": null,
   "metadata": {
    "colab": {
     "base_uri": "https://localhost:8080/"
    },
    "id": "9fgt7iZo7398",
    "outputId": "1a03319d-111a-460e-b46e-deeaf0fbd62f"
   },
   "outputs": [
    {
     "data": {
      "text/plain": [
       "0.6666666666666666"
      ]
     },
     "execution_count": 52,
     "metadata": {
      "tags": []
     },
     "output_type": "execute_result"
    }
   ],
   "source": [
    "lg2.score(x_test.T, in_out_y_test)"
   ]
  },
  {
   "cell_type": "markdown",
   "metadata": {
    "id": "yo1Siq7E77Bm"
   },
   "source": [
    "성능이 직접구현한것보다 좋게나왔지만 여전히 매우 좋지 않는 수치이다."
   ]
  },
  {
   "cell_type": "markdown",
   "metadata": {
    "id": "HxgeHk--78iJ"
   },
   "source": [
    "이로써 두개의 모델이 모두 준비되었으므로, 두개의 예측값을 합쳐서 하나의 array로 만들어 다중 라벨 분류를 완성한다.\n",
    "\n",
    "마찬가지로 낮과밤, 실내실외의 라벨이 합쳐진 테스트셋과 비교하여 정확도 성능을 측정한다."
   ]
  },
  {
   "cell_type": "code",
   "execution_count": null,
   "metadata": {
    "id": "yXc8TrD-7449"
   },
   "outputs": [],
   "source": [
    "multi_label_list = []\n",
    "for i in range(len(pred1)):\n",
    " multi_label_list.append([pred1[i], pred2[i]]) # 낮과밤에 대한 예측결과와 실내실외에 대한 예측결과를 샘플별로 묶어서 리스트에 저장한다."
   ]
  },
  {
   "cell_type": "code",
   "execution_count": null,
   "metadata": {
    "id": "xPtJvpsQ8Azz"
   },
   "outputs": [],
   "source": [
    "multi_label_pred = np.array(multi_label_list) # 저장된 리스트를 array로 바꾼다."
   ]
  },
  {
   "cell_type": "code",
   "execution_count": null,
   "metadata": {
    "id": "G5N83pb-8K7p"
   },
   "outputs": [],
   "source": [
    "multi_label_test_list = []\n",
    "for i in range(len(out_doors_y_test)):\n",
    " multi_label_test_list.append([day_night_y_test[0][i], out_doors_y_test[0][i]]) # 낮과밤, 실내실외에 대한 정답을 샘플별로 묶어서 리스트에 저장한다."
   ]
  },
  {
   "cell_type": "code",
   "execution_count": null,
   "metadata": {
    "id": "In-s9VF48MRF"
   },
   "outputs": [],
   "source": [
    "multi_label_y_test = np.array(multi_label_test_list) # 저장된 리스트를 array로 바꿔준다."
   ]
  },
  {
   "cell_type": "markdown",
   "metadata": {
    "id": "2CMUR2L58OH1"
   },
   "source": [
    "이제 마지막으로 정확도를 측정한다."
   ]
  },
  {
   "cell_type": "code",
   "execution_count": null,
   "metadata": {
    "colab": {
     "base_uri": "https://localhost:8080/"
    },
    "id": "sCsH-Yi78Nei",
    "outputId": "3442c115-004b-4659-fa7f-1eb75a4d435a"
   },
   "outputs": [
    {
     "data": {
      "text/plain": [
       "0.6444444444444445"
      ]
     },
     "execution_count": 57,
     "metadata": {
      "tags": []
     },
     "output_type": "execute_result"
    }
   ],
   "source": [
    "accuracy_score = np.mean(multi_label_pred == multi_label_y_test)\n",
    "accuracy_score"
   ]
  },
  {
   "cell_type": "markdown",
   "metadata": {
    "id": "CHVsXVEy8kKd"
   },
   "source": [
    "약 64%로 다중분류모델의 성능이 별로 좋지 않았음을 확인하였다."
   ]
  }
 ],
 "metadata": {
  "colab": {
   "collapsed_sections": [
    "bctqmvQQPjP-",
    "DtcqJokHWJT8",
    "rg7_M3zL7vBj",
    "oFpmxk4PSWa4"
   ],
   "name": "2017250033 이재현_머신러닝 과제.ipynb",
   "provenance": []
  },
  "kernelspec": {
   "display_name": "Python 3",
   "language": "python",
   "name": "python3"
  },
  "language_info": {
   "codemirror_mode": {
    "name": "ipython",
    "version": 3
   },
   "file_extension": ".py",
   "mimetype": "text/x-python",
   "name": "python",
   "nbconvert_exporter": "python",
   "pygments_lexer": "ipython3",
   "version": "3.8.5"
  }
 },
 "nbformat": 4,
 "nbformat_minor": 1
}
